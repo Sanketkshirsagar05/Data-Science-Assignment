{
 "cells": [
  {
   "cell_type": "markdown",
   "id": "267c0e7a",
   "metadata": {},
   "source": [
    "# HYPOTHESIS TESTING"
   ]
  },
  {
   "cell_type": "code",
   "execution_count": 2,
   "id": "ee6efb2d",
   "metadata": {},
   "outputs": [],
   "source": [
    "import numpy as np\n",
    "from scipy.stats import norm"
   ]
  },
  {
   "cell_type": "code",
   "execution_count": 3,
   "id": "2b81b74d",
   "metadata": {},
   "outputs": [],
   "source": [
    "# State the Hypotheses statement:\n",
    "#1. Null Hypothesis : weekly operating cost is same which is predicted by the model\n",
    "#2. Alternative Hypothesis : weekly operating cost is higher than predicted by the model"
   ]
  },
  {
   "cell_type": "code",
   "execution_count": 4,
   "id": "52491dfe",
   "metadata": {},
   "outputs": [],
   "source": [
    "#Calculate the Test Statistic"
   ]
  },
  {
   "cell_type": "code",
   "execution_count": 8,
   "id": "092ef3c2",
   "metadata": {},
   "outputs": [],
   "source": [
    "sample_mean = 3050\n",
    "theoretical_mean = 1000 + 5 * 600\n",
    "sigma = 5 * 25    # sigma\n",
    "n = 25            #sample size\n",
    "alpha = 0.05      #significance value"
   ]
  },
  {
   "cell_type": "code",
   "execution_count": 9,
   "id": "117f2b5b",
   "metadata": {},
   "outputs": [],
   "source": [
    "#population standard deviation is known that's why we prefered z-test\n",
    "z = (sample_mean - theoretical_mean) / (sigma / np.sqrt(n))"
   ]
  },
  {
   "cell_type": "code",
   "execution_count": 10,
   "id": "216039b5",
   "metadata": {},
   "outputs": [
    {
     "data": {
      "text/plain": [
       "-38.0"
      ]
     },
     "execution_count": 10,
     "metadata": {},
     "output_type": "execute_result"
    }
   ],
   "source": [
    "z"
   ]
  },
  {
   "cell_type": "code",
   "execution_count": 13,
   "id": "a9af3b7c",
   "metadata": {},
   "outputs": [],
   "source": [
    "#Determine the Critical Value\n",
    "critical_value = norm.ppf(1 - alpha)"
   ]
  },
  {
   "cell_type": "code",
   "execution_count": 14,
   "id": "ee19d60e",
   "metadata": {},
   "outputs": [
    {
     "data": {
      "text/plain": [
       "1.6448536269514722"
      ]
     },
     "execution_count": 14,
     "metadata": {},
     "output_type": "execute_result"
    }
   ],
   "source": [
    "critical_value"
   ]
  },
  {
   "cell_type": "code",
   "execution_count": 18,
   "id": "85b43576",
   "metadata": {},
   "outputs": [
    {
     "name": "stdout",
     "output_type": "stream",
     "text": [
      "There is no evidence to suggest the costs are higher. Null hypothesis accepted\n"
     ]
    }
   ],
   "source": [
    "#Make a Decision\n",
    "if z > critical_value:\n",
    "    print(\"There is evidence to suggest the costs are higher. Null hypothesis rejected\")\n",
    "else:\n",
    "    print(\"There is no evidence to suggest the costs are higher. Null hypothesis accepted\")"
   ]
  },
  {
   "cell_type": "code",
   "execution_count": null,
   "id": "f802fb22",
   "metadata": {},
   "outputs": [],
   "source": [
    "# test statistic is negative, so the null hypothesis is not rejected \n",
    "# there is no strong evidence to support operating cost are higher than predicted by model"
   ]
  }
 ],
 "metadata": {
  "kernelspec": {
   "display_name": "Python 3 (ipykernel)",
   "language": "python",
   "name": "python3"
  },
  "language_info": {
   "codemirror_mode": {
    "name": "ipython",
    "version": 3
   },
   "file_extension": ".py",
   "mimetype": "text/x-python",
   "name": "python",
   "nbconvert_exporter": "python",
   "pygments_lexer": "ipython3",
   "version": "3.10.9"
  }
 },
 "nbformat": 4,
 "nbformat_minor": 5
}
