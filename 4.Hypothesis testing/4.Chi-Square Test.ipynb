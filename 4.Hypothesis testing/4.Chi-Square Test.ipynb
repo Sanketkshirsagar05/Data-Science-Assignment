{
 "cells": [
  {
   "cell_type": "markdown",
   "id": "2d78091a",
   "metadata": {},
   "source": [
    "# CHI-SQUARE TEST"
   ]
  },
  {
   "cell_type": "code",
   "execution_count": 51,
   "id": "61f6b8f1",
   "metadata": {},
   "outputs": [],
   "source": [
    "import numpy as np\n",
    "from scipy.stats import chi2_contingency, chi2"
   ]
  },
  {
   "cell_type": "code",
   "execution_count": 52,
   "id": "667c1a6e",
   "metadata": {},
   "outputs": [],
   "source": [
    "# Contingency table\n",
    "data = np.array([[50,70],[80,100],[60,90],[30,50],[20,50]])"
   ]
  },
  {
   "cell_type": "code",
   "execution_count": 53,
   "id": "2e88e33b",
   "metadata": {},
   "outputs": [],
   "source": [
    "#1. State the Hypotheses statement:\n",
    "#Null Hypothesis : there is no significant association \n",
    "#Alternative Hypothesis : there is an significant association between them"
   ]
  },
  {
   "cell_type": "code",
   "execution_count": 54,
   "id": "0b69c727",
   "metadata": {},
   "outputs": [],
   "source": [
    "#2. Compute the Chi-Square Statistic\n",
    "chi2_stat,p_value,dof,exp=chi2_contingency(data)"
   ]
  },
  {
   "cell_type": "code",
   "execution_count": 55,
   "id": "1212fd30",
   "metadata": {},
   "outputs": [
    {
     "data": {
      "text/plain": [
       "5.638227513227513"
      ]
     },
     "execution_count": 55,
     "metadata": {},
     "output_type": "execute_result"
    }
   ],
   "source": [
    "#Chi-Square Statistic\n",
    "chi2_stat"
   ]
  },
  {
   "cell_type": "code",
   "execution_count": 56,
   "id": "9b0a0d6a",
   "metadata": {},
   "outputs": [
    {
     "data": {
      "text/plain": [
       "0.22784371130697179"
      ]
     },
     "execution_count": 56,
     "metadata": {},
     "output_type": "execute_result"
    }
   ],
   "source": [
    "# P Value\n",
    "p_value"
   ]
  },
  {
   "cell_type": "code",
   "execution_count": 57,
   "id": "0092939d",
   "metadata": {},
   "outputs": [
    {
     "data": {
      "text/plain": [
       "4"
      ]
     },
     "execution_count": 57,
     "metadata": {},
     "output_type": "execute_result"
    }
   ],
   "source": [
    "# Degrees of Freedom\n",
    "dof"
   ]
  },
  {
   "cell_type": "code",
   "execution_count": 58,
   "id": "f52b1ea4",
   "metadata": {},
   "outputs": [
    {
     "data": {
      "text/plain": [
       "array([[ 48.,  72.],\n",
       "       [ 72., 108.],\n",
       "       [ 60.,  90.],\n",
       "       [ 32.,  48.],\n",
       "       [ 28.,  42.]])"
      ]
     },
     "execution_count": 58,
     "metadata": {},
     "output_type": "execute_result"
    }
   ],
   "source": [
    "exp"
   ]
  },
  {
   "cell_type": "code",
   "execution_count": 59,
   "id": "cbcdbae8",
   "metadata": {},
   "outputs": [
    {
     "name": "stdout",
     "output_type": "stream",
     "text": [
      "Critical Value: 9.487729036781154\n"
     ]
    }
   ],
   "source": [
    "#3. Determine the Critical Value\n",
    "alpha = 0.05\n",
    "critical_value = chi2.ppf(1 - alpha, dof)\n",
    "print(\"Critical Value:\", critical_value)"
   ]
  },
  {
   "cell_type": "code",
   "execution_count": 62,
   "id": "faccd314",
   "metadata": {},
   "outputs": [
    {
     "name": "stdout",
     "output_type": "stream",
     "text": [
      "Accept null hypothesis\n"
     ]
    }
   ],
   "source": [
    "#4. Make a Decision\n",
    "if chi2_stat >critical_value:\n",
    "    print(\"Reject null hypothesis\")\n",
    "else:\n",
    "    print(\"Accept null hypothesis\")"
   ]
  },
  {
   "cell_type": "code",
   "execution_count": 61,
   "id": "8708e844",
   "metadata": {},
   "outputs": [],
   "source": [
    "#Chi-square statistic is less than the critical value there for we accept the null hypothsis"
   ]
  },
  {
   "cell_type": "code",
   "execution_count": null,
   "id": "738e752f",
   "metadata": {},
   "outputs": [],
   "source": [
    "#Null Hypothesis : there is no significant association between the type of smart phone device purchesed \n",
    "#and the customer satisfaction level."
   ]
  }
 ],
 "metadata": {
  "kernelspec": {
   "display_name": "Python 3 (ipykernel)",
   "language": "python",
   "name": "python3"
  },
  "language_info": {
   "codemirror_mode": {
    "name": "ipython",
    "version": 3
   },
   "file_extension": ".py",
   "mimetype": "text/x-python",
   "name": "python",
   "nbconvert_exporter": "python",
   "pygments_lexer": "ipython3",
   "version": "3.10.9"
  }
 },
 "nbformat": 4,
 "nbformat_minor": 5
}
