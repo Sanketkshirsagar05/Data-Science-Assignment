{
 "cells": [
  {
   "cell_type": "code",
   "execution_count": 27,
   "id": "d1cbbe78-1d20-4c53-86a4-d7a9e83a1448",
   "metadata": {},
   "outputs": [],
   "source": [
    "import pandas as pd\n",
    "import numpy as np\n",
    "from sklearn.preprocessing import StandardScaler\n",
    "from sklearn.preprocessing import LabelEncoder\n",
    "from sklearn.model_selection import train_test_split\n",
    "import tensorflow as tf\n",
    "from tensorflow.keras.models import Sequential\n",
    "from tensorflow.keras.layers import Dense, Input"
   ]
  },
  {
   "cell_type": "markdown",
   "id": "3e26c30a-25b8-433d-a97c-f7461534fc3f",
   "metadata": {},
   "source": [
    "# 1. Data Exploration and Preprocessing"
   ]
  },
  {
   "cell_type": "code",
   "execution_count": 4,
   "id": "253f39d0-6b26-47b5-a829-1c76b4a0b979",
   "metadata": {},
   "outputs": [],
   "source": [
    "data = pd.read_csv(\"Alphabets_data.csv\")"
   ]
  },
  {
   "cell_type": "code",
   "execution_count": 5,
   "id": "323edf53-9074-43a2-8268-c3191172af0a",
   "metadata": {},
   "outputs": [
    {
     "data": {
      "text/html": [
       "<div>\n",
       "<style scoped>\n",
       "    .dataframe tbody tr th:only-of-type {\n",
       "        vertical-align: middle;\n",
       "    }\n",
       "\n",
       "    .dataframe tbody tr th {\n",
       "        vertical-align: top;\n",
       "    }\n",
       "\n",
       "    .dataframe thead th {\n",
       "        text-align: right;\n",
       "    }\n",
       "</style>\n",
       "<table border=\"1\" class=\"dataframe\">\n",
       "  <thead>\n",
       "    <tr style=\"text-align: right;\">\n",
       "      <th></th>\n",
       "      <th>letter</th>\n",
       "      <th>xbox</th>\n",
       "      <th>ybox</th>\n",
       "      <th>width</th>\n",
       "      <th>height</th>\n",
       "      <th>onpix</th>\n",
       "      <th>xbar</th>\n",
       "      <th>ybar</th>\n",
       "      <th>x2bar</th>\n",
       "      <th>y2bar</th>\n",
       "      <th>xybar</th>\n",
       "      <th>x2ybar</th>\n",
       "      <th>xy2bar</th>\n",
       "      <th>xedge</th>\n",
       "      <th>xedgey</th>\n",
       "      <th>yedge</th>\n",
       "      <th>yedgex</th>\n",
       "    </tr>\n",
       "  </thead>\n",
       "  <tbody>\n",
       "    <tr>\n",
       "      <th>0</th>\n",
       "      <td>T</td>\n",
       "      <td>2</td>\n",
       "      <td>8</td>\n",
       "      <td>3</td>\n",
       "      <td>5</td>\n",
       "      <td>1</td>\n",
       "      <td>8</td>\n",
       "      <td>13</td>\n",
       "      <td>0</td>\n",
       "      <td>6</td>\n",
       "      <td>6</td>\n",
       "      <td>10</td>\n",
       "      <td>8</td>\n",
       "      <td>0</td>\n",
       "      <td>8</td>\n",
       "      <td>0</td>\n",
       "      <td>8</td>\n",
       "    </tr>\n",
       "    <tr>\n",
       "      <th>1</th>\n",
       "      <td>I</td>\n",
       "      <td>5</td>\n",
       "      <td>12</td>\n",
       "      <td>3</td>\n",
       "      <td>7</td>\n",
       "      <td>2</td>\n",
       "      <td>10</td>\n",
       "      <td>5</td>\n",
       "      <td>5</td>\n",
       "      <td>4</td>\n",
       "      <td>13</td>\n",
       "      <td>3</td>\n",
       "      <td>9</td>\n",
       "      <td>2</td>\n",
       "      <td>8</td>\n",
       "      <td>4</td>\n",
       "      <td>10</td>\n",
       "    </tr>\n",
       "    <tr>\n",
       "      <th>2</th>\n",
       "      <td>D</td>\n",
       "      <td>4</td>\n",
       "      <td>11</td>\n",
       "      <td>6</td>\n",
       "      <td>8</td>\n",
       "      <td>6</td>\n",
       "      <td>10</td>\n",
       "      <td>6</td>\n",
       "      <td>2</td>\n",
       "      <td>6</td>\n",
       "      <td>10</td>\n",
       "      <td>3</td>\n",
       "      <td>7</td>\n",
       "      <td>3</td>\n",
       "      <td>7</td>\n",
       "      <td>3</td>\n",
       "      <td>9</td>\n",
       "    </tr>\n",
       "    <tr>\n",
       "      <th>3</th>\n",
       "      <td>N</td>\n",
       "      <td>7</td>\n",
       "      <td>11</td>\n",
       "      <td>6</td>\n",
       "      <td>6</td>\n",
       "      <td>3</td>\n",
       "      <td>5</td>\n",
       "      <td>9</td>\n",
       "      <td>4</td>\n",
       "      <td>6</td>\n",
       "      <td>4</td>\n",
       "      <td>4</td>\n",
       "      <td>10</td>\n",
       "      <td>6</td>\n",
       "      <td>10</td>\n",
       "      <td>2</td>\n",
       "      <td>8</td>\n",
       "    </tr>\n",
       "    <tr>\n",
       "      <th>4</th>\n",
       "      <td>G</td>\n",
       "      <td>2</td>\n",
       "      <td>1</td>\n",
       "      <td>3</td>\n",
       "      <td>1</td>\n",
       "      <td>1</td>\n",
       "      <td>8</td>\n",
       "      <td>6</td>\n",
       "      <td>6</td>\n",
       "      <td>6</td>\n",
       "      <td>6</td>\n",
       "      <td>5</td>\n",
       "      <td>9</td>\n",
       "      <td>1</td>\n",
       "      <td>7</td>\n",
       "      <td>5</td>\n",
       "      <td>10</td>\n",
       "    </tr>\n",
       "  </tbody>\n",
       "</table>\n",
       "</div>"
      ],
      "text/plain": [
       "  letter  xbox  ybox  width  height  onpix  xbar  ybar  x2bar  y2bar  xybar  \\\n",
       "0      T     2     8      3       5      1     8    13      0      6      6   \n",
       "1      I     5    12      3       7      2    10     5      5      4     13   \n",
       "2      D     4    11      6       8      6    10     6      2      6     10   \n",
       "3      N     7    11      6       6      3     5     9      4      6      4   \n",
       "4      G     2     1      3       1      1     8     6      6      6      6   \n",
       "\n",
       "   x2ybar  xy2bar  xedge  xedgey  yedge  yedgex  \n",
       "0      10       8      0       8      0       8  \n",
       "1       3       9      2       8      4      10  \n",
       "2       3       7      3       7      3       9  \n",
       "3       4      10      6      10      2       8  \n",
       "4       5       9      1       7      5      10  "
      ]
     },
     "execution_count": 5,
     "metadata": {},
     "output_type": "execute_result"
    }
   ],
   "source": [
    "data.head()"
   ]
  },
  {
   "cell_type": "code",
   "execution_count": 6,
   "id": "e73992d3-5a4f-406c-b203-2150c9c54727",
   "metadata": {},
   "outputs": [
    {
     "name": "stdout",
     "output_type": "stream",
     "text": [
      "<class 'pandas.core.frame.DataFrame'>\n",
      "RangeIndex: 20000 entries, 0 to 19999\n",
      "Data columns (total 17 columns):\n",
      " #   Column  Non-Null Count  Dtype \n",
      "---  ------  --------------  ----- \n",
      " 0   letter  20000 non-null  object\n",
      " 1   xbox    20000 non-null  int64 \n",
      " 2   ybox    20000 non-null  int64 \n",
      " 3   width   20000 non-null  int64 \n",
      " 4   height  20000 non-null  int64 \n",
      " 5   onpix   20000 non-null  int64 \n",
      " 6   xbar    20000 non-null  int64 \n",
      " 7   ybar    20000 non-null  int64 \n",
      " 8   x2bar   20000 non-null  int64 \n",
      " 9   y2bar   20000 non-null  int64 \n",
      " 10  xybar   20000 non-null  int64 \n",
      " 11  x2ybar  20000 non-null  int64 \n",
      " 12  xy2bar  20000 non-null  int64 \n",
      " 13  xedge   20000 non-null  int64 \n",
      " 14  xedgey  20000 non-null  int64 \n",
      " 15  yedge   20000 non-null  int64 \n",
      " 16  yedgex  20000 non-null  int64 \n",
      "dtypes: int64(16), object(1)\n",
      "memory usage: 2.6+ MB\n"
     ]
    }
   ],
   "source": [
    "data.info()"
   ]
  },
  {
   "cell_type": "code",
   "execution_count": 7,
   "id": "5952e99a-2564-49a2-a5f2-4d22d1c9d14b",
   "metadata": {},
   "outputs": [
    {
     "data": {
      "text/html": [
       "<div>\n",
       "<style scoped>\n",
       "    .dataframe tbody tr th:only-of-type {\n",
       "        vertical-align: middle;\n",
       "    }\n",
       "\n",
       "    .dataframe tbody tr th {\n",
       "        vertical-align: top;\n",
       "    }\n",
       "\n",
       "    .dataframe thead th {\n",
       "        text-align: right;\n",
       "    }\n",
       "</style>\n",
       "<table border=\"1\" class=\"dataframe\">\n",
       "  <thead>\n",
       "    <tr style=\"text-align: right;\">\n",
       "      <th></th>\n",
       "      <th>xbox</th>\n",
       "      <th>ybox</th>\n",
       "      <th>width</th>\n",
       "      <th>height</th>\n",
       "      <th>onpix</th>\n",
       "      <th>xbar</th>\n",
       "      <th>ybar</th>\n",
       "      <th>x2bar</th>\n",
       "      <th>y2bar</th>\n",
       "      <th>xybar</th>\n",
       "      <th>x2ybar</th>\n",
       "      <th>xy2bar</th>\n",
       "      <th>xedge</th>\n",
       "      <th>xedgey</th>\n",
       "      <th>yedge</th>\n",
       "      <th>yedgex</th>\n",
       "    </tr>\n",
       "  </thead>\n",
       "  <tbody>\n",
       "    <tr>\n",
       "      <th>count</th>\n",
       "      <td>20000.000000</td>\n",
       "      <td>20000.000000</td>\n",
       "      <td>20000.000000</td>\n",
       "      <td>20000.00000</td>\n",
       "      <td>20000.000000</td>\n",
       "      <td>20000.000000</td>\n",
       "      <td>20000.000000</td>\n",
       "      <td>20000.000000</td>\n",
       "      <td>20000.000000</td>\n",
       "      <td>20000.000000</td>\n",
       "      <td>20000.00000</td>\n",
       "      <td>20000.000000</td>\n",
       "      <td>20000.000000</td>\n",
       "      <td>20000.000000</td>\n",
       "      <td>20000.000000</td>\n",
       "      <td>20000.00000</td>\n",
       "    </tr>\n",
       "    <tr>\n",
       "      <th>mean</th>\n",
       "      <td>4.023550</td>\n",
       "      <td>7.035500</td>\n",
       "      <td>5.121850</td>\n",
       "      <td>5.37245</td>\n",
       "      <td>3.505850</td>\n",
       "      <td>6.897600</td>\n",
       "      <td>7.500450</td>\n",
       "      <td>4.628600</td>\n",
       "      <td>5.178650</td>\n",
       "      <td>8.282050</td>\n",
       "      <td>6.45400</td>\n",
       "      <td>7.929000</td>\n",
       "      <td>3.046100</td>\n",
       "      <td>8.338850</td>\n",
       "      <td>3.691750</td>\n",
       "      <td>7.80120</td>\n",
       "    </tr>\n",
       "    <tr>\n",
       "      <th>std</th>\n",
       "      <td>1.913212</td>\n",
       "      <td>3.304555</td>\n",
       "      <td>2.014573</td>\n",
       "      <td>2.26139</td>\n",
       "      <td>2.190458</td>\n",
       "      <td>2.026035</td>\n",
       "      <td>2.325354</td>\n",
       "      <td>2.699968</td>\n",
       "      <td>2.380823</td>\n",
       "      <td>2.488475</td>\n",
       "      <td>2.63107</td>\n",
       "      <td>2.080619</td>\n",
       "      <td>2.332541</td>\n",
       "      <td>1.546722</td>\n",
       "      <td>2.567073</td>\n",
       "      <td>1.61747</td>\n",
       "    </tr>\n",
       "    <tr>\n",
       "      <th>min</th>\n",
       "      <td>0.000000</td>\n",
       "      <td>0.000000</td>\n",
       "      <td>0.000000</td>\n",
       "      <td>0.00000</td>\n",
       "      <td>0.000000</td>\n",
       "      <td>0.000000</td>\n",
       "      <td>0.000000</td>\n",
       "      <td>0.000000</td>\n",
       "      <td>0.000000</td>\n",
       "      <td>0.000000</td>\n",
       "      <td>0.00000</td>\n",
       "      <td>0.000000</td>\n",
       "      <td>0.000000</td>\n",
       "      <td>0.000000</td>\n",
       "      <td>0.000000</td>\n",
       "      <td>0.00000</td>\n",
       "    </tr>\n",
       "    <tr>\n",
       "      <th>25%</th>\n",
       "      <td>3.000000</td>\n",
       "      <td>5.000000</td>\n",
       "      <td>4.000000</td>\n",
       "      <td>4.00000</td>\n",
       "      <td>2.000000</td>\n",
       "      <td>6.000000</td>\n",
       "      <td>6.000000</td>\n",
       "      <td>3.000000</td>\n",
       "      <td>4.000000</td>\n",
       "      <td>7.000000</td>\n",
       "      <td>5.00000</td>\n",
       "      <td>7.000000</td>\n",
       "      <td>1.000000</td>\n",
       "      <td>8.000000</td>\n",
       "      <td>2.000000</td>\n",
       "      <td>7.00000</td>\n",
       "    </tr>\n",
       "    <tr>\n",
       "      <th>50%</th>\n",
       "      <td>4.000000</td>\n",
       "      <td>7.000000</td>\n",
       "      <td>5.000000</td>\n",
       "      <td>6.00000</td>\n",
       "      <td>3.000000</td>\n",
       "      <td>7.000000</td>\n",
       "      <td>7.000000</td>\n",
       "      <td>4.000000</td>\n",
       "      <td>5.000000</td>\n",
       "      <td>8.000000</td>\n",
       "      <td>6.00000</td>\n",
       "      <td>8.000000</td>\n",
       "      <td>3.000000</td>\n",
       "      <td>8.000000</td>\n",
       "      <td>3.000000</td>\n",
       "      <td>8.00000</td>\n",
       "    </tr>\n",
       "    <tr>\n",
       "      <th>75%</th>\n",
       "      <td>5.000000</td>\n",
       "      <td>9.000000</td>\n",
       "      <td>6.000000</td>\n",
       "      <td>7.00000</td>\n",
       "      <td>5.000000</td>\n",
       "      <td>8.000000</td>\n",
       "      <td>9.000000</td>\n",
       "      <td>6.000000</td>\n",
       "      <td>7.000000</td>\n",
       "      <td>10.000000</td>\n",
       "      <td>8.00000</td>\n",
       "      <td>9.000000</td>\n",
       "      <td>4.000000</td>\n",
       "      <td>9.000000</td>\n",
       "      <td>5.000000</td>\n",
       "      <td>9.00000</td>\n",
       "    </tr>\n",
       "    <tr>\n",
       "      <th>max</th>\n",
       "      <td>15.000000</td>\n",
       "      <td>15.000000</td>\n",
       "      <td>15.000000</td>\n",
       "      <td>15.00000</td>\n",
       "      <td>15.000000</td>\n",
       "      <td>15.000000</td>\n",
       "      <td>15.000000</td>\n",
       "      <td>15.000000</td>\n",
       "      <td>15.000000</td>\n",
       "      <td>15.000000</td>\n",
       "      <td>15.00000</td>\n",
       "      <td>15.000000</td>\n",
       "      <td>15.000000</td>\n",
       "      <td>15.000000</td>\n",
       "      <td>15.000000</td>\n",
       "      <td>15.00000</td>\n",
       "    </tr>\n",
       "  </tbody>\n",
       "</table>\n",
       "</div>"
      ],
      "text/plain": [
       "               xbox          ybox         width       height         onpix  \\\n",
       "count  20000.000000  20000.000000  20000.000000  20000.00000  20000.000000   \n",
       "mean       4.023550      7.035500      5.121850      5.37245      3.505850   \n",
       "std        1.913212      3.304555      2.014573      2.26139      2.190458   \n",
       "min        0.000000      0.000000      0.000000      0.00000      0.000000   \n",
       "25%        3.000000      5.000000      4.000000      4.00000      2.000000   \n",
       "50%        4.000000      7.000000      5.000000      6.00000      3.000000   \n",
       "75%        5.000000      9.000000      6.000000      7.00000      5.000000   \n",
       "max       15.000000     15.000000     15.000000     15.00000     15.000000   \n",
       "\n",
       "               xbar          ybar         x2bar         y2bar         xybar  \\\n",
       "count  20000.000000  20000.000000  20000.000000  20000.000000  20000.000000   \n",
       "mean       6.897600      7.500450      4.628600      5.178650      8.282050   \n",
       "std        2.026035      2.325354      2.699968      2.380823      2.488475   \n",
       "min        0.000000      0.000000      0.000000      0.000000      0.000000   \n",
       "25%        6.000000      6.000000      3.000000      4.000000      7.000000   \n",
       "50%        7.000000      7.000000      4.000000      5.000000      8.000000   \n",
       "75%        8.000000      9.000000      6.000000      7.000000     10.000000   \n",
       "max       15.000000     15.000000     15.000000     15.000000     15.000000   \n",
       "\n",
       "            x2ybar        xy2bar         xedge        xedgey         yedge  \\\n",
       "count  20000.00000  20000.000000  20000.000000  20000.000000  20000.000000   \n",
       "mean       6.45400      7.929000      3.046100      8.338850      3.691750   \n",
       "std        2.63107      2.080619      2.332541      1.546722      2.567073   \n",
       "min        0.00000      0.000000      0.000000      0.000000      0.000000   \n",
       "25%        5.00000      7.000000      1.000000      8.000000      2.000000   \n",
       "50%        6.00000      8.000000      3.000000      8.000000      3.000000   \n",
       "75%        8.00000      9.000000      4.000000      9.000000      5.000000   \n",
       "max       15.00000     15.000000     15.000000     15.000000     15.000000   \n",
       "\n",
       "            yedgex  \n",
       "count  20000.00000  \n",
       "mean       7.80120  \n",
       "std        1.61747  \n",
       "min        0.00000  \n",
       "25%        7.00000  \n",
       "50%        8.00000  \n",
       "75%        9.00000  \n",
       "max       15.00000  "
      ]
     },
     "execution_count": 7,
     "metadata": {},
     "output_type": "execute_result"
    }
   ],
   "source": [
    "data.describe()"
   ]
  },
  {
   "cell_type": "code",
   "execution_count": 8,
   "id": "a261a9c2-1285-4c8e-998c-54bdef3fa8ec",
   "metadata": {},
   "outputs": [
    {
     "data": {
      "text/plain": [
       "letter    0\n",
       "xbox      0\n",
       "ybox      0\n",
       "width     0\n",
       "height    0\n",
       "onpix     0\n",
       "xbar      0\n",
       "ybar      0\n",
       "x2bar     0\n",
       "y2bar     0\n",
       "xybar     0\n",
       "x2ybar    0\n",
       "xy2bar    0\n",
       "xedge     0\n",
       "xedgey    0\n",
       "yedge     0\n",
       "yedgex    0\n",
       "dtype: int64"
      ]
     },
     "execution_count": 8,
     "metadata": {},
     "output_type": "execute_result"
    }
   ],
   "source": [
    "data.isnull().sum()"
   ]
  },
  {
   "cell_type": "code",
   "execution_count": 19,
   "id": "cae90d54-e7b0-4ab1-9008-2d2829c68fd3",
   "metadata": {},
   "outputs": [],
   "source": [
    "# Separate features (X) and target (y)\n",
    "X = data.drop(columns=['letter'])\n",
    "y = data['letter']"
   ]
  },
  {
   "cell_type": "code",
   "execution_count": 20,
   "id": "426e46cd-9486-4c4b-8463-7b8b1d85598e",
   "metadata": {},
   "outputs": [],
   "source": [
    "# Normalize feature data\n",
    "scaler = StandardScaler()\n",
    "X = scaler.fit_transform(X)"
   ]
  },
  {
   "cell_type": "code",
   "execution_count": 21,
   "id": "c307a895-7a19-4abb-b68b-eff5d882b2ab",
   "metadata": {},
   "outputs": [],
   "source": [
    "# Encode categorical labels\n",
    "label_encoder = LabelEncoder()\n",
    "y = label_encoder.fit_transform(y)"
   ]
  },
  {
   "cell_type": "code",
   "execution_count": 22,
   "id": "79d702b9-bfe5-4015-a3cc-d0de62b1e245",
   "metadata": {},
   "outputs": [
    {
     "data": {
      "text/plain": [
       "((16000, 16), (4000, 16), (16000,), (4000,))"
      ]
     },
     "execution_count": 22,
     "metadata": {},
     "output_type": "execute_result"
    }
   ],
   "source": [
    "# Split the dataset into training and testing sets\n",
    "X_train, X_test, y_train, y_test = train_test_split(X,y, test_size=0.20, random_state=41)\n",
    "X_train.shape, X_test.shape, y_train.shape, y_test.shape"
   ]
  },
  {
   "cell_type": "markdown",
   "id": "e1f4bc8a-d094-47fc-9293-b4d8daad5bcd",
   "metadata": {},
   "source": [
    "# 2. Model Implementation"
   ]
  },
  {
   "cell_type": "code",
   "execution_count": 28,
   "id": "9f8e43cb-0792-48ae-9913-59abeb98a2be",
   "metadata": {},
   "outputs": [],
   "source": [
    "model = Sequential([\n",
    "    Input(shape=(X_train.shape[1],)),   # Define the input shape explicitly\n",
    "    Dense(16, activation='relu'),      # First hidden layer\n",
    "    Dense(8, activation='relu'),       # Second hidden layer\n",
    "    Dense(len(np.unique(y)), activation='softmax')  # Output layer\n",
    "])"
   ]
  },
  {
   "cell_type": "code",
   "execution_count": 29,
   "id": "e30a5c9a-abec-499f-998f-905285549a5a",
   "metadata": {},
   "outputs": [],
   "source": [
    "# Compile the ANN\n",
    "model.compile(optimizer='adam', loss='sparse_categorical_crossentropy', metrics=['accuracy'])"
   ]
  },
  {
   "cell_type": "code",
   "execution_count": 30,
   "id": "bf600177-b886-4934-b1b2-d7ce11cc400e",
   "metadata": {},
   "outputs": [
    {
     "data": {
      "text/html": [
       "<pre style=\"white-space:pre;overflow-x:auto;line-height:normal;font-family:Menlo,'DejaVu Sans Mono',consolas,'Courier New',monospace\"><span style=\"font-weight: bold\">Model: \"sequential_1\"</span>\n",
       "</pre>\n"
      ],
      "text/plain": [
       "\u001b[1mModel: \"sequential_1\"\u001b[0m\n"
      ]
     },
     "metadata": {},
     "output_type": "display_data"
    },
    {
     "data": {
      "text/html": [
       "<pre style=\"white-space:pre;overflow-x:auto;line-height:normal;font-family:Menlo,'DejaVu Sans Mono',consolas,'Courier New',monospace\">┏━━━━━━━━━━━━━━━━━━━━━━━━━━━━━━━━━┳━━━━━━━━━━━━━━━━━━━━━━━━┳━━━━━━━━━━━━━━━┓\n",
       "┃<span style=\"font-weight: bold\"> Layer (type)                    </span>┃<span style=\"font-weight: bold\"> Output Shape           </span>┃<span style=\"font-weight: bold\">       Param # </span>┃\n",
       "┡━━━━━━━━━━━━━━━━━━━━━━━━━━━━━━━━━╇━━━━━━━━━━━━━━━━━━━━━━━━╇━━━━━━━━━━━━━━━┩\n",
       "│ dense_1 (<span style=\"color: #0087ff; text-decoration-color: #0087ff\">Dense</span>)                 │ (<span style=\"color: #00d7ff; text-decoration-color: #00d7ff\">None</span>, <span style=\"color: #00af00; text-decoration-color: #00af00\">16</span>)             │           <span style=\"color: #00af00; text-decoration-color: #00af00\">272</span> │\n",
       "├─────────────────────────────────┼────────────────────────┼───────────────┤\n",
       "│ dense_2 (<span style=\"color: #0087ff; text-decoration-color: #0087ff\">Dense</span>)                 │ (<span style=\"color: #00d7ff; text-decoration-color: #00d7ff\">None</span>, <span style=\"color: #00af00; text-decoration-color: #00af00\">8</span>)              │           <span style=\"color: #00af00; text-decoration-color: #00af00\">136</span> │\n",
       "├─────────────────────────────────┼────────────────────────┼───────────────┤\n",
       "│ dense_3 (<span style=\"color: #0087ff; text-decoration-color: #0087ff\">Dense</span>)                 │ (<span style=\"color: #00d7ff; text-decoration-color: #00d7ff\">None</span>, <span style=\"color: #00af00; text-decoration-color: #00af00\">26</span>)             │           <span style=\"color: #00af00; text-decoration-color: #00af00\">234</span> │\n",
       "└─────────────────────────────────┴────────────────────────┴───────────────┘\n",
       "</pre>\n"
      ],
      "text/plain": [
       "┏━━━━━━━━━━━━━━━━━━━━━━━━━━━━━━━━━┳━━━━━━━━━━━━━━━━━━━━━━━━┳━━━━━━━━━━━━━━━┓\n",
       "┃\u001b[1m \u001b[0m\u001b[1mLayer (type)                   \u001b[0m\u001b[1m \u001b[0m┃\u001b[1m \u001b[0m\u001b[1mOutput Shape          \u001b[0m\u001b[1m \u001b[0m┃\u001b[1m \u001b[0m\u001b[1m      Param #\u001b[0m\u001b[1m \u001b[0m┃\n",
       "┡━━━━━━━━━━━━━━━━━━━━━━━━━━━━━━━━━╇━━━━━━━━━━━━━━━━━━━━━━━━╇━━━━━━━━━━━━━━━┩\n",
       "│ dense_1 (\u001b[38;5;33mDense\u001b[0m)                 │ (\u001b[38;5;45mNone\u001b[0m, \u001b[38;5;34m16\u001b[0m)             │           \u001b[38;5;34m272\u001b[0m │\n",
       "├─────────────────────────────────┼────────────────────────┼───────────────┤\n",
       "│ dense_2 (\u001b[38;5;33mDense\u001b[0m)                 │ (\u001b[38;5;45mNone\u001b[0m, \u001b[38;5;34m8\u001b[0m)              │           \u001b[38;5;34m136\u001b[0m │\n",
       "├─────────────────────────────────┼────────────────────────┼───────────────┤\n",
       "│ dense_3 (\u001b[38;5;33mDense\u001b[0m)                 │ (\u001b[38;5;45mNone\u001b[0m, \u001b[38;5;34m26\u001b[0m)             │           \u001b[38;5;34m234\u001b[0m │\n",
       "└─────────────────────────────────┴────────────────────────┴───────────────┘\n"
      ]
     },
     "metadata": {},
     "output_type": "display_data"
    },
    {
     "data": {
      "text/html": [
       "<pre style=\"white-space:pre;overflow-x:auto;line-height:normal;font-family:Menlo,'DejaVu Sans Mono',consolas,'Courier New',monospace\"><span style=\"font-weight: bold\"> Total params: </span><span style=\"color: #00af00; text-decoration-color: #00af00\">642</span> (2.51 KB)\n",
       "</pre>\n"
      ],
      "text/plain": [
       "\u001b[1m Total params: \u001b[0m\u001b[38;5;34m642\u001b[0m (2.51 KB)\n"
      ]
     },
     "metadata": {},
     "output_type": "display_data"
    },
    {
     "data": {
      "text/html": [
       "<pre style=\"white-space:pre;overflow-x:auto;line-height:normal;font-family:Menlo,'DejaVu Sans Mono',consolas,'Courier New',monospace\"><span style=\"font-weight: bold\"> Trainable params: </span><span style=\"color: #00af00; text-decoration-color: #00af00\">642</span> (2.51 KB)\n",
       "</pre>\n"
      ],
      "text/plain": [
       "\u001b[1m Trainable params: \u001b[0m\u001b[38;5;34m642\u001b[0m (2.51 KB)\n"
      ]
     },
     "metadata": {},
     "output_type": "display_data"
    },
    {
     "data": {
      "text/html": [
       "<pre style=\"white-space:pre;overflow-x:auto;line-height:normal;font-family:Menlo,'DejaVu Sans Mono',consolas,'Courier New',monospace\"><span style=\"font-weight: bold\"> Non-trainable params: </span><span style=\"color: #00af00; text-decoration-color: #00af00\">0</span> (0.00 B)\n",
       "</pre>\n"
      ],
      "text/plain": [
       "\u001b[1m Non-trainable params: \u001b[0m\u001b[38;5;34m0\u001b[0m (0.00 B)\n"
      ]
     },
     "metadata": {},
     "output_type": "display_data"
    }
   ],
   "source": [
    "# Summary of the model\n",
    "model.summary()"
   ]
  },
  {
   "cell_type": "code",
   "execution_count": 31,
   "id": "0605f9a9-0bc1-49d8-beb5-294119c196a5",
   "metadata": {},
   "outputs": [
    {
     "name": "stdout",
     "output_type": "stream",
     "text": [
      "Epoch 1/50\n",
      "\u001b[1m1440/1440\u001b[0m \u001b[32m━━━━━━━━━━━━━━━━━━━━\u001b[0m\u001b[37m\u001b[0m \u001b[1m3s\u001b[0m 1ms/step - accuracy: 0.1848 - loss: 2.8000 - val_accuracy: 0.5306 - val_loss: 1.5278\n",
      "Epoch 2/50\n",
      "\u001b[1m1440/1440\u001b[0m \u001b[32m━━━━━━━━━━━━━━━━━━━━\u001b[0m\u001b[37m\u001b[0m \u001b[1m2s\u001b[0m 1ms/step - accuracy: 0.5732 - loss: 1.3854 - val_accuracy: 0.6406 - val_loss: 1.1926\n",
      "Epoch 3/50\n",
      "\u001b[1m1440/1440\u001b[0m \u001b[32m━━━━━━━━━━━━━━━━━━━━\u001b[0m\u001b[37m\u001b[0m \u001b[1m2s\u001b[0m 1ms/step - accuracy: 0.6426 - loss: 1.1459 - val_accuracy: 0.6812 - val_loss: 1.0784\n",
      "Epoch 4/50\n",
      "\u001b[1m1440/1440\u001b[0m \u001b[32m━━━━━━━━━━━━━━━━━━━━\u001b[0m\u001b[37m\u001b[0m \u001b[1m2s\u001b[0m 1ms/step - accuracy: 0.6860 - loss: 1.0242 - val_accuracy: 0.7056 - val_loss: 0.9950\n",
      "Epoch 5/50\n",
      "\u001b[1m1440/1440\u001b[0m \u001b[32m━━━━━━━━━━━━━━━━━━━━\u001b[0m\u001b[37m\u001b[0m \u001b[1m2s\u001b[0m 1ms/step - accuracy: 0.7072 - loss: 0.9602 - val_accuracy: 0.7262 - val_loss: 0.9308\n",
      "Epoch 6/50\n",
      "\u001b[1m1440/1440\u001b[0m \u001b[32m━━━━━━━━━━━━━━━━━━━━\u001b[0m\u001b[37m\u001b[0m \u001b[1m2s\u001b[0m 1ms/step - accuracy: 0.7282 - loss: 0.8911 - val_accuracy: 0.7406 - val_loss: 0.8770\n",
      "Epoch 7/50\n",
      "\u001b[1m1440/1440\u001b[0m \u001b[32m━━━━━━━━━━━━━━━━━━━━\u001b[0m\u001b[37m\u001b[0m \u001b[1m2s\u001b[0m 1ms/step - accuracy: 0.7427 - loss: 0.8438 - val_accuracy: 0.7556 - val_loss: 0.8487\n",
      "Epoch 8/50\n",
      "\u001b[1m1440/1440\u001b[0m \u001b[32m━━━━━━━━━━━━━━━━━━━━\u001b[0m\u001b[37m\u001b[0m \u001b[1m2s\u001b[0m 1ms/step - accuracy: 0.7547 - loss: 0.8205 - val_accuracy: 0.7619 - val_loss: 0.8247\n",
      "Epoch 9/50\n",
      "\u001b[1m1440/1440\u001b[0m \u001b[32m━━━━━━━━━━━━━━━━━━━━\u001b[0m\u001b[37m\u001b[0m \u001b[1m2s\u001b[0m 1ms/step - accuracy: 0.7538 - loss: 0.7983 - val_accuracy: 0.7669 - val_loss: 0.8110\n",
      "Epoch 10/50\n",
      "\u001b[1m1440/1440\u001b[0m \u001b[32m━━━━━━━━━━━━━━━━━━━━\u001b[0m\u001b[37m\u001b[0m \u001b[1m2s\u001b[0m 1ms/step - accuracy: 0.7663 - loss: 0.7750 - val_accuracy: 0.7694 - val_loss: 0.7837\n",
      "Epoch 11/50\n",
      "\u001b[1m1440/1440\u001b[0m \u001b[32m━━━━━━━━━━━━━━━━━━━━\u001b[0m\u001b[37m\u001b[0m \u001b[1m2s\u001b[0m 1ms/step - accuracy: 0.7662 - loss: 0.7653 - val_accuracy: 0.7719 - val_loss: 0.7758\n",
      "Epoch 12/50\n",
      "\u001b[1m1440/1440\u001b[0m \u001b[32m━━━━━━━━━━━━━━━━━━━━\u001b[0m\u001b[37m\u001b[0m \u001b[1m2s\u001b[0m 1ms/step - accuracy: 0.7756 - loss: 0.7368 - val_accuracy: 0.7731 - val_loss: 0.7654\n",
      "Epoch 13/50\n",
      "\u001b[1m1440/1440\u001b[0m \u001b[32m━━━━━━━━━━━━━━━━━━━━\u001b[0m\u001b[37m\u001b[0m \u001b[1m2s\u001b[0m 1ms/step - accuracy: 0.7751 - loss: 0.7296 - val_accuracy: 0.7775 - val_loss: 0.7493\n",
      "Epoch 14/50\n",
      "\u001b[1m1440/1440\u001b[0m \u001b[32m━━━━━━━━━━━━━━━━━━━━\u001b[0m\u001b[37m\u001b[0m \u001b[1m2s\u001b[0m 1ms/step - accuracy: 0.7841 - loss: 0.7069 - val_accuracy: 0.7844 - val_loss: 0.7338\n",
      "Epoch 15/50\n",
      "\u001b[1m1440/1440\u001b[0m \u001b[32m━━━━━━━━━━━━━━━━━━━━\u001b[0m\u001b[37m\u001b[0m \u001b[1m2s\u001b[0m 1ms/step - accuracy: 0.7926 - loss: 0.6799 - val_accuracy: 0.7800 - val_loss: 0.7297\n",
      "Epoch 16/50\n",
      "\u001b[1m1440/1440\u001b[0m \u001b[32m━━━━━━━━━━━━━━━━━━━━\u001b[0m\u001b[37m\u001b[0m \u001b[1m2s\u001b[0m 1ms/step - accuracy: 0.7912 - loss: 0.6898 - val_accuracy: 0.7794 - val_loss: 0.7285\n",
      "Epoch 17/50\n",
      "\u001b[1m1440/1440\u001b[0m \u001b[32m━━━━━━━━━━━━━━━━━━━━\u001b[0m\u001b[37m\u001b[0m \u001b[1m2s\u001b[0m 1ms/step - accuracy: 0.7976 - loss: 0.6582 - val_accuracy: 0.7819 - val_loss: 0.7184\n",
      "Epoch 18/50\n",
      "\u001b[1m1440/1440\u001b[0m \u001b[32m━━━━━━━━━━━━━━━━━━━━\u001b[0m\u001b[37m\u001b[0m \u001b[1m2s\u001b[0m 1ms/step - accuracy: 0.7932 - loss: 0.6733 - val_accuracy: 0.7862 - val_loss: 0.7079\n",
      "Epoch 19/50\n",
      "\u001b[1m1440/1440\u001b[0m \u001b[32m━━━━━━━━━━━━━━━━━━━━\u001b[0m\u001b[37m\u001b[0m \u001b[1m2s\u001b[0m 1ms/step - accuracy: 0.7965 - loss: 0.6575 - val_accuracy: 0.7900 - val_loss: 0.7077\n",
      "Epoch 20/50\n",
      "\u001b[1m1440/1440\u001b[0m \u001b[32m━━━━━━━━━━━━━━━━━━━━\u001b[0m\u001b[37m\u001b[0m \u001b[1m2s\u001b[0m 1ms/step - accuracy: 0.8016 - loss: 0.6504 - val_accuracy: 0.7981 - val_loss: 0.6939\n",
      "Epoch 21/50\n",
      "\u001b[1m1440/1440\u001b[0m \u001b[32m━━━━━━━━━━━━━━━━━━━━\u001b[0m\u001b[37m\u001b[0m \u001b[1m2s\u001b[0m 1ms/step - accuracy: 0.7975 - loss: 0.6500 - val_accuracy: 0.7944 - val_loss: 0.6959\n",
      "Epoch 22/50\n",
      "\u001b[1m1440/1440\u001b[0m \u001b[32m━━━━━━━━━━━━━━━━━━━━\u001b[0m\u001b[37m\u001b[0m \u001b[1m2s\u001b[0m 1ms/step - accuracy: 0.7999 - loss: 0.6501 - val_accuracy: 0.8037 - val_loss: 0.6818\n",
      "Epoch 23/50\n",
      "\u001b[1m1440/1440\u001b[0m \u001b[32m━━━━━━━━━━━━━━━━━━━━\u001b[0m\u001b[37m\u001b[0m \u001b[1m2s\u001b[0m 1ms/step - accuracy: 0.8076 - loss: 0.6382 - val_accuracy: 0.7925 - val_loss: 0.6898\n",
      "Epoch 24/50\n",
      "\u001b[1m1440/1440\u001b[0m \u001b[32m━━━━━━━━━━━━━━━━━━━━\u001b[0m\u001b[37m\u001b[0m \u001b[1m2s\u001b[0m 1ms/step - accuracy: 0.8111 - loss: 0.6228 - val_accuracy: 0.8069 - val_loss: 0.6790\n",
      "Epoch 25/50\n",
      "\u001b[1m1440/1440\u001b[0m \u001b[32m━━━━━━━━━━━━━━━━━━━━\u001b[0m\u001b[37m\u001b[0m \u001b[1m2s\u001b[0m 1ms/step - accuracy: 0.8042 - loss: 0.6405 - val_accuracy: 0.8031 - val_loss: 0.6842\n",
      "Epoch 26/50\n",
      "\u001b[1m1440/1440\u001b[0m \u001b[32m━━━━━━━━━━━━━━━━━━━━\u001b[0m\u001b[37m\u001b[0m \u001b[1m2s\u001b[0m 1ms/step - accuracy: 0.8019 - loss: 0.6427 - val_accuracy: 0.8037 - val_loss: 0.6752\n",
      "Epoch 27/50\n",
      "\u001b[1m1440/1440\u001b[0m \u001b[32m━━━━━━━━━━━━━━━━━━━━\u001b[0m\u001b[37m\u001b[0m \u001b[1m2s\u001b[0m 1ms/step - accuracy: 0.8080 - loss: 0.6277 - val_accuracy: 0.8037 - val_loss: 0.6804\n",
      "Epoch 28/50\n",
      "\u001b[1m1440/1440\u001b[0m \u001b[32m━━━━━━━━━━━━━━━━━━━━\u001b[0m\u001b[37m\u001b[0m \u001b[1m2s\u001b[0m 1ms/step - accuracy: 0.8130 - loss: 0.6171 - val_accuracy: 0.8019 - val_loss: 0.6769\n",
      "Epoch 29/50\n",
      "\u001b[1m1440/1440\u001b[0m \u001b[32m━━━━━━━━━━━━━━━━━━━━\u001b[0m\u001b[37m\u001b[0m \u001b[1m2s\u001b[0m 1ms/step - accuracy: 0.8111 - loss: 0.6302 - val_accuracy: 0.8100 - val_loss: 0.6657\n",
      "Epoch 30/50\n",
      "\u001b[1m1440/1440\u001b[0m \u001b[32m━━━━━━━━━━━━━━━━━━━━\u001b[0m\u001b[37m\u001b[0m \u001b[1m2s\u001b[0m 1ms/step - accuracy: 0.8163 - loss: 0.6119 - val_accuracy: 0.8106 - val_loss: 0.6675\n",
      "Epoch 31/50\n",
      "\u001b[1m1440/1440\u001b[0m \u001b[32m━━━━━━━━━━━━━━━━━━━━\u001b[0m\u001b[37m\u001b[0m \u001b[1m2s\u001b[0m 1ms/step - accuracy: 0.8172 - loss: 0.6044 - val_accuracy: 0.8025 - val_loss: 0.6744\n",
      "Epoch 32/50\n",
      "\u001b[1m1440/1440\u001b[0m \u001b[32m━━━━━━━━━━━━━━━━━━━━\u001b[0m\u001b[37m\u001b[0m \u001b[1m2s\u001b[0m 1ms/step - accuracy: 0.8112 - loss: 0.6185 - val_accuracy: 0.8087 - val_loss: 0.6694\n",
      "Epoch 33/50\n",
      "\u001b[1m1440/1440\u001b[0m \u001b[32m━━━━━━━━━━━━━━━━━━━━\u001b[0m\u001b[37m\u001b[0m \u001b[1m2s\u001b[0m 1ms/step - accuracy: 0.8099 - loss: 0.6224 - val_accuracy: 0.8094 - val_loss: 0.6671\n",
      "Epoch 34/50\n",
      "\u001b[1m1440/1440\u001b[0m \u001b[32m━━━━━━━━━━━━━━━━━━━━\u001b[0m\u001b[37m\u001b[0m \u001b[1m2s\u001b[0m 1ms/step - accuracy: 0.8155 - loss: 0.6149 - val_accuracy: 0.8100 - val_loss: 0.6619\n",
      "Epoch 35/50\n",
      "\u001b[1m1440/1440\u001b[0m \u001b[32m━━━━━━━━━━━━━━━━━━━━\u001b[0m\u001b[37m\u001b[0m \u001b[1m2s\u001b[0m 1ms/step - accuracy: 0.8197 - loss: 0.5933 - val_accuracy: 0.8156 - val_loss: 0.6588\n",
      "Epoch 36/50\n",
      "\u001b[1m1440/1440\u001b[0m \u001b[32m━━━━━━━━━━━━━━━━━━━━\u001b[0m\u001b[37m\u001b[0m \u001b[1m2s\u001b[0m 1ms/step - accuracy: 0.8122 - loss: 0.6201 - val_accuracy: 0.8100 - val_loss: 0.6571\n",
      "Epoch 37/50\n",
      "\u001b[1m1440/1440\u001b[0m \u001b[32m━━━━━━━━━━━━━━━━━━━━\u001b[0m\u001b[37m\u001b[0m \u001b[1m2s\u001b[0m 1ms/step - accuracy: 0.8215 - loss: 0.6021 - val_accuracy: 0.8156 - val_loss: 0.6594\n",
      "Epoch 38/50\n",
      "\u001b[1m1440/1440\u001b[0m \u001b[32m━━━━━━━━━━━━━━━━━━━━\u001b[0m\u001b[37m\u001b[0m \u001b[1m2s\u001b[0m 1ms/step - accuracy: 0.8220 - loss: 0.5908 - val_accuracy: 0.8150 - val_loss: 0.6490\n",
      "Epoch 39/50\n",
      "\u001b[1m1440/1440\u001b[0m \u001b[32m━━━━━━━━━━━━━━━━━━━━\u001b[0m\u001b[37m\u001b[0m \u001b[1m2s\u001b[0m 1ms/step - accuracy: 0.8204 - loss: 0.5927 - val_accuracy: 0.8069 - val_loss: 0.6664\n",
      "Epoch 40/50\n",
      "\u001b[1m1440/1440\u001b[0m \u001b[32m━━━━━━━━━━━━━━━━━━━━\u001b[0m\u001b[37m\u001b[0m \u001b[1m2s\u001b[0m 1ms/step - accuracy: 0.8168 - loss: 0.5988 - val_accuracy: 0.8125 - val_loss: 0.6488\n",
      "Epoch 41/50\n",
      "\u001b[1m1440/1440\u001b[0m \u001b[32m━━━━━━━━━━━━━━━━━━━━\u001b[0m\u001b[37m\u001b[0m \u001b[1m2s\u001b[0m 1ms/step - accuracy: 0.8267 - loss: 0.5808 - val_accuracy: 0.8163 - val_loss: 0.6508\n",
      "Epoch 42/50\n",
      "\u001b[1m1440/1440\u001b[0m \u001b[32m━━━━━━━━━━━━━━━━━━━━\u001b[0m\u001b[37m\u001b[0m \u001b[1m2s\u001b[0m 1ms/step - accuracy: 0.8204 - loss: 0.5980 - val_accuracy: 0.8112 - val_loss: 0.6563\n",
      "Epoch 43/50\n",
      "\u001b[1m1440/1440\u001b[0m \u001b[32m━━━━━━━━━━━━━━━━━━━━\u001b[0m\u001b[37m\u001b[0m \u001b[1m2s\u001b[0m 1ms/step - accuracy: 0.8279 - loss: 0.5765 - val_accuracy: 0.8131 - val_loss: 0.6488\n",
      "Epoch 44/50\n",
      "\u001b[1m1440/1440\u001b[0m \u001b[32m━━━━━━━━━━━━━━━━━━━━\u001b[0m\u001b[37m\u001b[0m \u001b[1m2s\u001b[0m 1ms/step - accuracy: 0.8210 - loss: 0.5919 - val_accuracy: 0.8112 - val_loss: 0.6532\n",
      "Epoch 45/50\n",
      "\u001b[1m1440/1440\u001b[0m \u001b[32m━━━━━━━━━━━━━━━━━━━━\u001b[0m\u001b[37m\u001b[0m \u001b[1m2s\u001b[0m 1ms/step - accuracy: 0.8259 - loss: 0.5710 - val_accuracy: 0.8206 - val_loss: 0.6557\n",
      "Epoch 46/50\n",
      "\u001b[1m1440/1440\u001b[0m \u001b[32m━━━━━━━━━━━━━━━━━━━━\u001b[0m\u001b[37m\u001b[0m \u001b[1m2s\u001b[0m 1ms/step - accuracy: 0.8260 - loss: 0.5816 - val_accuracy: 0.8156 - val_loss: 0.6529\n",
      "Epoch 47/50\n",
      "\u001b[1m1440/1440\u001b[0m \u001b[32m━━━━━━━━━━━━━━━━━━━━\u001b[0m\u001b[37m\u001b[0m \u001b[1m2s\u001b[0m 1ms/step - accuracy: 0.8269 - loss: 0.5783 - val_accuracy: 0.8181 - val_loss: 0.6439\n",
      "Epoch 48/50\n",
      "\u001b[1m1440/1440\u001b[0m \u001b[32m━━━━━━━━━━━━━━━━━━━━\u001b[0m\u001b[37m\u001b[0m \u001b[1m2s\u001b[0m 1ms/step - accuracy: 0.8258 - loss: 0.5807 - val_accuracy: 0.8125 - val_loss: 0.6484\n",
      "Epoch 49/50\n",
      "\u001b[1m1440/1440\u001b[0m \u001b[32m━━━━━━━━━━━━━━━━━━━━\u001b[0m\u001b[37m\u001b[0m \u001b[1m2s\u001b[0m 1ms/step - accuracy: 0.8188 - loss: 0.5936 - val_accuracy: 0.8106 - val_loss: 0.6480\n",
      "Epoch 50/50\n",
      "\u001b[1m1440/1440\u001b[0m \u001b[32m━━━━━━━━━━━━━━━━━━━━\u001b[0m\u001b[37m\u001b[0m \u001b[1m2s\u001b[0m 1ms/step - accuracy: 0.8231 - loss: 0.5805 - val_accuracy: 0.8125 - val_loss: 0.6483\n"
     ]
    }
   ],
   "source": [
    "# Train the model on the training set\n",
    "history = model.fit(X_train, y_train, epochs=50, batch_size=10, validation_split=0.1)"
   ]
  },
  {
   "cell_type": "code",
   "execution_count": 33,
   "id": "51c7d9e8-e377-40c7-aeec-fb5c54371cee",
   "metadata": {},
   "outputs": [
    {
     "name": "stdout",
     "output_type": "stream",
     "text": [
      "\u001b[1m500/500\u001b[0m \u001b[32m━━━━━━━━━━━━━━━━━━━━\u001b[0m\u001b[37m\u001b[0m \u001b[1m1s\u001b[0m 961us/step - accuracy: 0.8254 - loss: 0.5689\n",
      "train Accuracy: 82.48%\n"
     ]
    }
   ],
   "source": [
    "# Evaluate the model on the train set\n",
    "loss, accuracy = model.evaluate(X_train, y_train)\n",
    "print(f'train Accuracy: {accuracy * 100:.2f}%')"
   ]
  },
  {
   "cell_type": "code",
   "execution_count": 34,
   "id": "607ef44d-6760-45f9-b3db-89effca0b128",
   "metadata": {},
   "outputs": [
    {
     "name": "stdout",
     "output_type": "stream",
     "text": [
      "\u001b[1m500/500\u001b[0m \u001b[32m━━━━━━━━━━━━━━━━━━━━\u001b[0m\u001b[37m\u001b[0m \u001b[1m0s\u001b[0m 722us/step\n"
     ]
    }
   ],
   "source": [
    "# Make predictions on the train set\n",
    "yhat_train = model.predict(X_train)\n",
    "y_pred_classes = yhat_train.argmax(axis=-1)"
   ]
  },
  {
   "cell_type": "code",
   "execution_count": 35,
   "id": "df5f0513-5120-4fd0-bf09-dded41df94ce",
   "metadata": {
    "scrolled": true
   },
   "outputs": [
    {
     "name": "stdout",
     "output_type": "stream",
     "text": [
      "[[562   2   0   0   0   0   0   1   0   4   4   3   6   4   0   0   6   4\n",
      "    5   6   2   6   2   4  12   0]\n",
      " [  4 538   0   8   3   3   5   5   0   0   3   0   0   0   8   3   0  18\n",
      "    8   1   0   6   0   2   4   0]\n",
      " [  0   0 500   0  32   0  25   9   0   0  25   0   1   0  10   0   1   0\n",
      "    0   3   4   0   0   0   0   0]\n",
      " [  0  52   0 537   0   1   0   8   0   5   0   0   5   8  12   5   0   7\n",
      "    4   0   3   0   0   1   0   0]\n",
      " [  0   7  11   0 490   4  22   0   0   0  14   1   0   0   0   0  11   1\n",
      "    3  12   0   0   0  15   0  15]\n",
      " [  0  31   1  10  10 443   0   1   7   3   0   0   0   2   1  24   2   1\n",
      "    7  57   1   2   4   5   5   1]\n",
      " [  4   8  13   6   2   2 473   5   0   0   3   8   2   0   9   2  35   3\n",
      "   13   0   4  15   0   4   0   3]\n",
      " [  6  13   5  33   0   8  13 359   3   6  20   3   6  16  27   3   3  32\n",
      "    0   0  17   6   1   1   1   1]\n",
      " [  1   1   1   9   1   3   3   0 499  22   0   4   0   0   0   8   8   0\n",
      "   23   0   0   0   0   9   5  12]\n",
      " [  3   1   0   9   1   1   0   4  24 505   0   0   1   0   1   0   2   0\n",
      "    2   0   0   0   1  19   0  16]\n",
      " [  0   2   3   4  13   1  21  13   0   0 456  10   0  13   1   0   0  25\n",
      "    0   0   3   0   0  14   0   0]\n",
      " [  0   5   0   0   7   0  21   5   1   0   6 514   2   0   0   0   0   2\n",
      "   11   1   0   0   0  34   0   1]\n",
      " [  1   4   0   0   0   0   3   2   0   4   0   0 577   5   4   0   0   8\n",
      "    0   0   3   2  22   0   0   0]\n",
      " [  8   6   0   8   0   0   0   6   0   0   2   0  13 501   9   0   0  21\n",
      "    0   0   2   3  27   0   1   0]\n",
      " [  0   7   6   9   0   0   8   8   0   0   0   0   3   1 464   4  36  12\n",
      "    1   0   5   2  20   0   0   0]\n",
      " [  0  11   0   4   4  28   4   0   1   0   1   0   0   0   7 570   0   1\n",
      "    0   1   0   2   1   0  13   0]\n",
      " [  9   1   1   1   4   0  30   1   0   0   0   0   0   0  16   0 524   7\n",
      "    1   9   1   1   3   2   1   4]\n",
      " [  4  52   0   8   0   1   9  13   0   0  16   0   3   1   5   1   2 481\n",
      "    0   0   1   0   6  12   0   0]\n",
      " [  3  33   0   5  39  12   5   1   6   4   0  13   0   0   0   2   4   2\n",
      "  410  13   0   0   0  12   1  46]\n",
      " [  1   7   0   1   5  10   6   1   3   0   8   0   0   1   1   1   2   5\n",
      "   11 545   2   7   0   5  12  10]\n",
      " [  1   3   3   0   0   0   3   2   0   1   0   0  21   6   4   0   4   7\n",
      "    0   0 576   2  15   1   2   0]\n",
      " [  6   7   0   2   0   1   1   0   0   0   0   0   0   0   0   2   3   5\n",
      "    0   1   1 546  27   0  12   0]\n",
      " [  1   0   0   0   0   0   0   0   0   0   0   0  13   0   1   0   1   7\n",
      "    0   0   2   6 556   0   0   0]\n",
      " [  0   2   0   4  12   3  11   5   4   2  28   9   0   0   0   0  12   2\n",
      "   13   9   2   0   0 493   1  13]\n",
      " [  7   0   0   0   0   4   0   0   0   0   0   0   1   0   0   6   1   0\n",
      "    1  50   5  23   0   3 541   0]\n",
      " [  3   3   0   2  14   2   1   0   0   3   0   2   0   0   0   0   6   2\n",
      "   18   2   0   0   0   5   0 537]]\n",
      "              precision    recall  f1-score   support\n",
      "\n",
      "           0       0.90      0.89      0.89       633\n",
      "           1       0.68      0.87      0.76       619\n",
      "           2       0.92      0.82      0.87       610\n",
      "           3       0.81      0.83      0.82       648\n",
      "           4       0.77      0.81      0.79       606\n",
      "           5       0.84      0.72      0.77       618\n",
      "           6       0.71      0.77      0.74       614\n",
      "           7       0.80      0.62      0.70       583\n",
      "           8       0.91      0.82      0.86       609\n",
      "           9       0.90      0.86      0.88       590\n",
      "          10       0.78      0.79      0.78       579\n",
      "          11       0.91      0.84      0.87       610\n",
      "          12       0.88      0.91      0.90       635\n",
      "          13       0.90      0.83      0.86       607\n",
      "          14       0.80      0.79      0.80       586\n",
      "          15       0.90      0.88      0.89       648\n",
      "          16       0.79      0.85      0.82       616\n",
      "          17       0.74      0.78      0.76       615\n",
      "          18       0.77      0.67      0.72       611\n",
      "          19       0.77      0.85      0.81       644\n",
      "          20       0.91      0.88      0.90       651\n",
      "          21       0.87      0.89      0.88       614\n",
      "          22       0.81      0.95      0.87       587\n",
      "          23       0.77      0.79      0.78       625\n",
      "          24       0.89      0.84      0.86       642\n",
      "          25       0.81      0.90      0.85       600\n",
      "\n",
      "    accuracy                           0.82     16000\n",
      "   macro avg       0.83      0.82      0.82     16000\n",
      "weighted avg       0.83      0.82      0.82     16000\n",
      "\n"
     ]
    }
   ],
   "source": [
    "from sklearn.metrics import confusion_matrix, classification_report\n",
    "print(confusion_matrix(y_train, y_pred_classes ))\n",
    "print(classification_report(y_train, y_pred_classes ))"
   ]
  },
  {
   "cell_type": "markdown",
   "id": "90fa8784-1877-4a00-9a25-2ffad27db0de",
   "metadata": {},
   "source": [
    "# 3. Hyperparameter Tuning"
   ]
  },
  {
   "cell_type": "code",
   "execution_count": 38,
   "id": "557cd75d-85fc-449d-a040-c63deb33d2fc",
   "metadata": {},
   "outputs": [],
   "source": [
    "def create_model(hidden_layers=1, units=15, activation='relu', learning_rate=0.001):  # Model Creation Function\n",
    "    model = Sequential()\n",
    "    model.add(Dense(units=units, activation=activation, input_dim=X_train.shape[1]))\n",
    "\n",
    "    for _ in range(hidden_layers - 1):\n",
    "        model.add(Dense(units=units, activation=activation))\n",
    "\n",
    "    model.add(Dense(units=len(np.unique(y)), activation='softmax'))\n",
    "\n",
    "    optimizer = tf.keras.optimizers.Adam(learning_rate=learning_rate)\n",
    "    model.compile(optimizer=optimizer, loss='sparse_categorical_crossentropy', metrics=['accuracy'])\n",
    "    return model"
   ]
  },
  {
   "cell_type": "code",
   "execution_count": 39,
   "id": "e66dc8d8-a192-4a22-b671-f8f97c6676df",
   "metadata": {},
   "outputs": [],
   "source": [
    "def evaluate_model(hidden_layers, units, activation, learning_rate):        #Model Evaluation Function\n",
    "    model = create_model(hidden_layers=hidden_layers, units=units, activation=activation, learning_rate=learning_rate)\n",
    "    model.fit(X_train, y_train, epochs=10, batch_size=10, verbose=0)\n",
    "    _, accuracy = model.evaluate(X_test, y_test, verbose=0)\n",
    "    return accuracy"
   ]
  },
  {
   "cell_type": "code",
   "execution_count": 40,
   "id": "612ccf01-463b-4bd5-8089-31b034ce3509",
   "metadata": {
    "scrolled": true
   },
   "outputs": [
    {
     "name": "stderr",
     "output_type": "stream",
     "text": [
      "C:\\Users\\sanke\\anaconda3\\envs\\notebook\\Lib\\site-packages\\keras\\src\\layers\\core\\dense.py:87: UserWarning: Do not pass an `input_shape`/`input_dim` argument to a layer. When using Sequential models, prefer using an `Input(shape)` object as the first layer in the model instead.\n",
      "  super().__init__(activity_regularizer=activity_regularizer, **kwargs)\n"
     ]
    },
    {
     "name": "stdout",
     "output_type": "stream",
     "text": [
      "Params: {'activation': 'relu', 'hidden_layers': 1, 'learning_rate': 0.001, 'units': 8} - Score: 0.7260000109672546\n",
      "Params: {'activation': 'relu', 'hidden_layers': 1, 'learning_rate': 0.001, 'units': 16} - Score: 0.8025000095367432\n",
      "Params: {'activation': 'relu', 'hidden_layers': 1, 'learning_rate': 0.001, 'units': 32} - Score: 0.862500011920929\n",
      "Params: {'activation': 'relu', 'hidden_layers': 1, 'learning_rate': 0.01, 'units': 8} - Score: 0.7289999723434448\n",
      "Params: {'activation': 'relu', 'hidden_layers': 1, 'learning_rate': 0.01, 'units': 16} - Score: 0.8117499947547913\n",
      "Params: {'activation': 'relu', 'hidden_layers': 1, 'learning_rate': 0.01, 'units': 32} - Score: 0.8650000095367432\n",
      "Params: {'activation': 'relu', 'hidden_layers': 2, 'learning_rate': 0.001, 'units': 8} - Score: 0.6992499828338623\n",
      "Params: {'activation': 'relu', 'hidden_layers': 2, 'learning_rate': 0.001, 'units': 16} - Score: 0.8159999847412109\n",
      "Params: {'activation': 'relu', 'hidden_layers': 2, 'learning_rate': 0.001, 'units': 32} - Score: 0.890749990940094\n",
      "Params: {'activation': 'relu', 'hidden_layers': 2, 'learning_rate': 0.01, 'units': 8} - Score: 0.7192500233650208\n",
      "Params: {'activation': 'relu', 'hidden_layers': 2, 'learning_rate': 0.01, 'units': 16} - Score: 0.8002499938011169\n",
      "Params: {'activation': 'relu', 'hidden_layers': 2, 'learning_rate': 0.01, 'units': 32} - Score: 0.8677499890327454\n",
      "Params: {'activation': 'relu', 'hidden_layers': 3, 'learning_rate': 0.001, 'units': 8} - Score: 0.6779999732971191\n",
      "Params: {'activation': 'relu', 'hidden_layers': 3, 'learning_rate': 0.001, 'units': 16} - Score: 0.8149999976158142\n",
      "Params: {'activation': 'relu', 'hidden_layers': 3, 'learning_rate': 0.001, 'units': 32} - Score: 0.8882499933242798\n",
      "Params: {'activation': 'relu', 'hidden_layers': 3, 'learning_rate': 0.01, 'units': 8} - Score: 0.6707500219345093\n",
      "Params: {'activation': 'relu', 'hidden_layers': 3, 'learning_rate': 0.01, 'units': 16} - Score: 0.7975000143051147\n",
      "Params: {'activation': 'relu', 'hidden_layers': 3, 'learning_rate': 0.01, 'units': 32} - Score: 0.8382499814033508\n",
      "Params: {'activation': 'tanh', 'hidden_layers': 1, 'learning_rate': 0.001, 'units': 8} - Score: 0.6812499761581421\n",
      "Params: {'activation': 'tanh', 'hidden_layers': 1, 'learning_rate': 0.001, 'units': 16} - Score: 0.784500002861023\n",
      "Params: {'activation': 'tanh', 'hidden_layers': 1, 'learning_rate': 0.001, 'units': 32} - Score: 0.8500000238418579\n",
      "Params: {'activation': 'tanh', 'hidden_layers': 1, 'learning_rate': 0.01, 'units': 8} - Score: 0.7064999938011169\n",
      "Params: {'activation': 'tanh', 'hidden_layers': 1, 'learning_rate': 0.01, 'units': 16} - Score: 0.793749988079071\n",
      "Params: {'activation': 'tanh', 'hidden_layers': 1, 'learning_rate': 0.01, 'units': 32} - Score: 0.8679999709129333\n",
      "Params: {'activation': 'tanh', 'hidden_layers': 2, 'learning_rate': 0.001, 'units': 8} - Score: 0.6884999871253967\n",
      "Params: {'activation': 'tanh', 'hidden_layers': 2, 'learning_rate': 0.001, 'units': 16} - Score: 0.8165000081062317\n",
      "Params: {'activation': 'tanh', 'hidden_layers': 2, 'learning_rate': 0.001, 'units': 32} - Score: 0.8887500166893005\n",
      "Params: {'activation': 'tanh', 'hidden_layers': 2, 'learning_rate': 0.01, 'units': 8} - Score: 0.7052500247955322\n",
      "Params: {'activation': 'tanh', 'hidden_layers': 2, 'learning_rate': 0.01, 'units': 16} - Score: 0.8077499866485596\n",
      "Params: {'activation': 'tanh', 'hidden_layers': 2, 'learning_rate': 0.01, 'units': 32} - Score: 0.8560000061988831\n",
      "Params: {'activation': 'tanh', 'hidden_layers': 3, 'learning_rate': 0.001, 'units': 8} - Score: 0.6654999852180481\n",
      "Params: {'activation': 'tanh', 'hidden_layers': 3, 'learning_rate': 0.001, 'units': 16} - Score: 0.8142499923706055\n",
      "Params: {'activation': 'tanh', 'hidden_layers': 3, 'learning_rate': 0.001, 'units': 32} - Score: 0.9017500281333923\n",
      "Params: {'activation': 'tanh', 'hidden_layers': 3, 'learning_rate': 0.01, 'units': 8} - Score: 0.6892499923706055\n",
      "Params: {'activation': 'tanh', 'hidden_layers': 3, 'learning_rate': 0.01, 'units': 16} - Score: 0.7975000143051147\n",
      "Params: {'activation': 'tanh', 'hidden_layers': 3, 'learning_rate': 0.01, 'units': 32} - Score: 0.8295000195503235\n",
      "Best Score: 0.9017500281333923\n",
      "Best Params: {'activation': 'tanh', 'hidden_layers': 3, 'learning_rate': 0.001, 'units': 32}\n"
     ]
    }
   ],
   "source": [
    "#Perform Hyperparameter Tuning\n",
    "param_grid = {\n",
    "    'hidden_layers': [1, 2, 3],\n",
    "    'units': [8, 16, 32],\n",
    "    'activation': ['relu', 'tanh'],\n",
    "    'learning_rate': [0.001, 0.01]\n",
    "}\n",
    "\n",
    "best_score = 0\n",
    "best_params = {}\n",
    "\n",
    "for params in ParameterGrid(param_grid):\n",
    "    score = evaluate_model(**params)\n",
    "    print(f\"Params: {params} - Score: {score}\")\n",
    "    if score > best_score:\n",
    "        best_score = score\n",
    "        best_params = params\n",
    "\n",
    "print(f\"Best Score: {best_score}\")\n",
    "print(f\"Best Params: {best_params}\")"
   ]
  },
  {
   "cell_type": "code",
   "execution_count": 41,
   "id": "9fa00a32-6229-47de-9458-23e1c377caa0",
   "metadata": {},
   "outputs": [],
   "source": [
    "# Best parameters from the tuning process\n",
    "best_hidden_layers = best_params['hidden_layers']\n",
    "best_units = best_params['units']\n",
    "best_activation = best_params['activation']\n",
    "best_learning_rate = best_params['learning_rate']"
   ]
  },
  {
   "cell_type": "code",
   "execution_count": 42,
   "id": "a8b3bca6-2e99-47e0-9162-829d9ed914f0",
   "metadata": {},
   "outputs": [],
   "source": [
    "# Create the final model with the best parameters\n",
    "final_model = create_model(\n",
    "    hidden_layers=best_hidden_layers,\n",
    "    units=best_units,\n",
    "    activation=best_activation,\n",
    "    learning_rate=best_learning_rate\n",
    ")"
   ]
  },
  {
   "cell_type": "code",
   "execution_count": 43,
   "id": "4c74e84b-0468-47ee-94d3-c5c8d99d22ee",
   "metadata": {
    "scrolled": true
   },
   "outputs": [
    {
     "name": "stdout",
     "output_type": "stream",
     "text": [
      "Epoch 1/10\n",
      "\u001b[1m1600/1600\u001b[0m \u001b[32m━━━━━━━━━━━━━━━━━━━━\u001b[0m\u001b[37m\u001b[0m \u001b[1m3s\u001b[0m 1ms/step - accuracy: 0.4403 - loss: 2.0756\n",
      "Epoch 2/10\n",
      "\u001b[1m1600/1600\u001b[0m \u001b[32m━━━━━━━━━━━━━━━━━━━━\u001b[0m\u001b[37m\u001b[0m \u001b[1m2s\u001b[0m 981us/step - accuracy: 0.7635 - loss: 0.8746\n",
      "Epoch 3/10\n",
      "\u001b[1m1600/1600\u001b[0m \u001b[32m━━━━━━━━━━━━━━━━━━━━\u001b[0m\u001b[37m\u001b[0m \u001b[1m2s\u001b[0m 1ms/step - accuracy: 0.8114 - loss: 0.6606\n",
      "Epoch 4/10\n",
      "\u001b[1m1600/1600\u001b[0m \u001b[32m━━━━━━━━━━━━━━━━━━━━\u001b[0m\u001b[37m\u001b[0m \u001b[1m2s\u001b[0m 995us/step - accuracy: 0.8454 - loss: 0.5491\n",
      "Epoch 5/10\n",
      "\u001b[1m1600/1600\u001b[0m \u001b[32m━━━━━━━━━━━━━━━━━━━━\u001b[0m\u001b[37m\u001b[0m \u001b[1m2s\u001b[0m 987us/step - accuracy: 0.8668 - loss: 0.4692\n",
      "Epoch 6/10\n",
      "\u001b[1m1600/1600\u001b[0m \u001b[32m━━━━━━━━━━━━━━━━━━━━\u001b[0m\u001b[37m\u001b[0m \u001b[1m2s\u001b[0m 1ms/step - accuracy: 0.8822 - loss: 0.4091\n",
      "Epoch 7/10\n",
      "\u001b[1m1600/1600\u001b[0m \u001b[32m━━━━━━━━━━━━━━━━━━━━\u001b[0m\u001b[37m\u001b[0m \u001b[1m2s\u001b[0m 988us/step - accuracy: 0.8933 - loss: 0.3666\n",
      "Epoch 8/10\n",
      "\u001b[1m1600/1600\u001b[0m \u001b[32m━━━━━━━━━━━━━━━━━━━━\u001b[0m\u001b[37m\u001b[0m \u001b[1m2s\u001b[0m 984us/step - accuracy: 0.9043 - loss: 0.3300\n",
      "Epoch 9/10\n",
      "\u001b[1m1600/1600\u001b[0m \u001b[32m━━━━━━━━━━━━━━━━━━━━\u001b[0m\u001b[37m\u001b[0m \u001b[1m2s\u001b[0m 1ms/step - accuracy: 0.9086 - loss: 0.3036\n",
      "Epoch 10/10\n",
      "\u001b[1m1600/1600\u001b[0m \u001b[32m━━━━━━━━━━━━━━━━━━━━\u001b[0m\u001b[37m\u001b[0m \u001b[1m2s\u001b[0m 1ms/step - accuracy: 0.9113 - loss: 0.2932\n"
     ]
    },
    {
     "data": {
      "text/plain": [
       "<keras.src.callbacks.history.History at 0x1bc6b8f8770>"
      ]
     },
     "execution_count": 43,
     "metadata": {},
     "output_type": "execute_result"
    }
   ],
   "source": [
    "# Train the final model on the full training data\n",
    "final_model.fit(X_train, y_train, epochs=10, batch_size=10, verbose=1)"
   ]
  },
  {
   "cell_type": "code",
   "execution_count": 46,
   "id": "c24f56af-1564-43e5-b96d-b916c00f9727",
   "metadata": {},
   "outputs": [],
   "source": [
    "#Import necessary libraries\n",
    "import numpy as np\n",
    "from sklearn.model_selection import train_test_split\n",
    "from sklearn.metrics import confusion_matrix, classification_report"
   ]
  },
  {
   "cell_type": "code",
   "execution_count": 47,
   "id": "3aa1a228-85ec-4961-8d5c-203fe2489c4d",
   "metadata": {},
   "outputs": [
    {
     "name": "stdout",
     "output_type": "stream",
     "text": [
      "\u001b[1m500/500\u001b[0m \u001b[32m━━━━━━━━━━━━━━━━━━━━\u001b[0m\u001b[37m\u001b[0m \u001b[1m0s\u001b[0m 765us/step\n"
     ]
    }
   ],
   "source": [
    " #Make predictions on the train set\n",
    "yhat_train = final_model.predict(X_train)\n",
    "y_pred_classes = yhat_train.argmax(axis=-1)"
   ]
  },
  {
   "cell_type": "code",
   "execution_count": 49,
   "id": "01a960dd-60b0-442b-b372-35ac6dfb7461",
   "metadata": {},
   "outputs": [
    {
     "name": "stdout",
     "output_type": "stream",
     "text": [
      "\u001b[1m125/125\u001b[0m \u001b[32m━━━━━━━━━━━━━━━━━━━━\u001b[0m\u001b[37m\u001b[0m \u001b[1m0s\u001b[0m 919us/step\n"
     ]
    }
   ],
   "source": [
    "# Make predictions on the test set\n",
    "yhat_test = final_model.predict(X_test)\n",
    "y_pred_classes1 = yhat_test.argmax(axis=-1)"
   ]
  },
  {
   "cell_type": "code",
   "execution_count": 50,
   "id": "343fa6fc-9d67-421a-a5f0-98b60f5e5180",
   "metadata": {},
   "outputs": [
    {
     "name": "stdout",
     "output_type": "stream",
     "text": [
      "[[151   0   0   0   0   0   1   1   0   0   0   0   0   0   0   0   0   1\n",
      "    0   0   1   0   0   0   1   0]\n",
      " [  0 117   0  10   2   0   2   0   0   0   0   0   1   2   0   0   0   9\n",
      "    3   0   0   1   0   0   0   0]\n",
      " [  0   0 115   0   3   1   4   0   0   0   0   0   0   0   2   0   0   0\n",
      "    0   1   0   0   0   0   0   0]\n",
      " [  1   4   0 141   0   0   1   4   0   1   0   0   1   2   0   0   0   0\n",
      "    1   0   0   0   0   1   0   0]\n",
      " [  0   0   0   0 147   1   4   0   0   0   0   0   0   0   0   0   2   4\n",
      "    3   0   0   0   0   0   0   1]\n",
      " [  0   1   0   1   0 145   0   1   1   0   0   0   0   1   0   0   0   0\n",
      "    1   1   0   0   0   0   5   0]\n",
      " [  0   2   2   3   2   0 132   1   0   0   1   0   0   0   1   1   7   1\n",
      "    1   0   1   3   0   0   0   1]\n",
      " [  0   0   0   4   0   0   1 126   0   0   5   0   0   2   1   1   3   7\n",
      "    0   0   0   0   0   0   0   1]\n",
      " [  0   0   0   3   0   1   0   0 133   5   0   0   0   0   0   1   0   0\n",
      "    0   0   0   0   0   0   2   1]\n",
      " [  0   0   0   0   0   1   0   2   6 142   0   0   0   0   2   0   1   0\n",
      "    0   0   0   0   0   1   0   2]\n",
      " [  0   1   1   1   1   0   0   3   0   0 140   0   1   0   0   0   0   7\n",
      "    0   0   0   0   1   4   0   0]\n",
      " [  0   1   0   0   2   0   1   1   0   1   0 135   0   0   0   0   0   4\n",
      "    4   1   0   0   0   1   0   0]\n",
      " [  1   0   0   0   0   0   0   2   0   0   0   0 145   4   1   1   0   1\n",
      "    0   0   0   0   2   0   0   0]\n",
      " [  0   0   0   4   0   1   0   2   0   0   0   0   2 157   6   0   0   3\n",
      "    0   0   0   0   1   0   0   0]\n",
      " [  0   0   1   1   0   0   1   5   0   0   0   0   0   1 152   1   3   2\n",
      "    0   0   0   0   0   0   0   0]\n",
      " [  0   0   0   1   1   6   3   1   1   0   0   0   0   0   1 141   0   0\n",
      "    0   0   0   0   0   0   0   0]\n",
      " [  2   3   0   0   1   0   0   0   0   0   0   0   0   0   2   0 159   0\n",
      "    0   0   0   0   0   0   0   0]\n",
      " [  0   0   0   2   0   0   0   1   0   0   1   0   1   1   1   0   1 135\n",
      "    0   0   0   0   0   0   0   0]\n",
      " [  0   0   0   1   2   1   0   0   0   2   0   0   0   0   2   0   1   0\n",
      "  127   0   0   0   0   0   0   1]\n",
      " [  0   0   0   1   0   0   0   1   0   0   0   0   0   0   0   0   0   0\n",
      "    1 143   0   0   0   0   5   1]\n",
      " [  2   0   0   1   0   0   1   4   0   0   0   0   3   0   1   0   3   0\n",
      "    0   0 144   0   2   0   1   0]\n",
      " [  0   3   0   1   0   0   1   0   0   0   0   0   0   1   1   3   0   1\n",
      "    0   0   0 129   7   0   3   0]\n",
      " [  0   0   0   0   0   0   0   0   0   0   0   0   9   1   5   0   0   0\n",
      "    0   0   1   0 149   0   0   0]\n",
      " [  0   0   0   0   1   0   0   0   2   1   4   0   0   0   1   0   0   1\n",
      "    1   0   0   0   0 150   1   0]\n",
      " [  0   0   0   0   0   0   0   0   0   0   0   0   0   0   0   0   1   0\n",
      "    1   0   0   0   0   0 142   0]\n",
      " [  0   0   0   0   6   1   0   0   0   1   0   0   0   0   0   0   0   0\n",
      "    6   0   0   0   0   0   0 120]]\n",
      "              precision    recall  f1-score   support\n",
      "\n",
      "           0       0.96      0.97      0.96       156\n",
      "           1       0.89      0.80      0.84       147\n",
      "           2       0.97      0.91      0.94       126\n",
      "           3       0.81      0.90      0.85       157\n",
      "           4       0.88      0.91      0.89       162\n",
      "           5       0.92      0.92      0.92       157\n",
      "           6       0.87      0.83      0.85       159\n",
      "           7       0.81      0.83      0.82       151\n",
      "           8       0.93      0.91      0.92       146\n",
      "           9       0.93      0.90      0.92       157\n",
      "          10       0.93      0.88      0.90       160\n",
      "          11       1.00      0.89      0.94       151\n",
      "          12       0.89      0.92      0.91       157\n",
      "          13       0.91      0.89      0.90       176\n",
      "          14       0.85      0.91      0.88       167\n",
      "          15       0.95      0.91      0.93       155\n",
      "          16       0.88      0.95      0.91       167\n",
      "          17       0.77      0.94      0.85       143\n",
      "          18       0.85      0.93      0.89       137\n",
      "          19       0.98      0.94      0.96       152\n",
      "          20       0.98      0.89      0.93       162\n",
      "          21       0.97      0.86      0.91       150\n",
      "          22       0.92      0.90      0.91       165\n",
      "          23       0.96      0.93      0.94       162\n",
      "          24       0.89      0.99      0.93       144\n",
      "          25       0.94      0.90      0.92       134\n",
      "\n",
      "    accuracy                           0.90      4000\n",
      "   macro avg       0.91      0.90      0.90      4000\n",
      "weighted avg       0.91      0.90      0.90      4000\n",
      "\n"
     ]
    }
   ],
   "source": [
    "from sklearn.metrics import confusion_matrix, classification_report\n",
    "print(confusion_matrix(y_test, y_pred_classes1 ))\n",
    "print(classification_report(y_test, y_pred_classes1 ))"
   ]
  },
  {
   "cell_type": "raw",
   "id": "7ddd9bea-9d05-4f9d-aaa2-7ab7c6394113",
   "metadata": {},
   "source": [
    "training set metrics precision,recall,and f1-score:\n",
    "the ,odel demonstrates high precision and recall across most classes,with some minor variations.\n",
    "for instance, class 1 has a precision of 0.82 and a recall of 0.93, leading to an f1-score of 0.87, which is lower compared to other classes but still acceptable.class 24 shows excellent performance with a precision of 0.97, recall of 0.91, and an f1-score of 0.94.\n",
    "testing set metrics\n",
    "precision,recall, and f1-score:\n",
    "the model maintains good precision and recall, though slightly lower than on the training set.\n",
    "for example, class 1 has a precision of 0.80 and a recall of 0.85, resulting in an f1-score of 0.82."
   ]
  },
  {
   "cell_type": "raw",
   "id": "d53f3c0d-f8fa-4da3-a14e-2ffcb25d5e9c",
   "metadata": {},
   "source": [
    "Tuned Model\n",
    "Training Accuracy: 91%\n",
    "Testing Accuracy: 90%\n",
    "Default Model\n",
    "Training Accuracy: 82.48%\n",
    "Testing Accuracy: 80%\n",
    "Overall Improvement: The tuned model outperforms the default model in both training and testing accuracy. The tuned model has higher precision, recall, and F1-scores across most classes.\n",
    "Consistency: The performance improvements are consistent across various metrics, indicating a well-tuned model."
   ]
  },
  {
   "cell_type": "code",
   "execution_count": null,
   "id": "8d5ea5c7-9e2f-4efa-8936-e53e5adfa83f",
   "metadata": {},
   "outputs": [],
   "source": []
  }
 ],
 "metadata": {
  "kernelspec": {
   "display_name": "Python 3 (ipykernel)",
   "language": "python",
   "name": "python3"
  },
  "language_info": {
   "codemirror_mode": {
    "name": "ipython",
    "version": 3
   },
   "file_extension": ".py",
   "mimetype": "text/x-python",
   "name": "python",
   "nbconvert_exporter": "python",
   "pygments_lexer": "ipython3",
   "version": "3.12.8"
  }
 },
 "nbformat": 4,
 "nbformat_minor": 5
}
