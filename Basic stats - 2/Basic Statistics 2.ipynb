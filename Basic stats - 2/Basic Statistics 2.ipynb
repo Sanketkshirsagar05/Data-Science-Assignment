{
 "cells": [
  {
   "cell_type": "markdown",
   "id": "7a5c2553",
   "metadata": {},
   "source": [
    "Estimation And Confidence Intervals"
   ]
  },
  {
   "cell_type": "code",
   "execution_count": 14,
   "id": "0ffa3507",
   "metadata": {},
   "outputs": [],
   "source": [
    "import numpy as np\n",
    "from scipy import stats "
   ]
  },
  {
   "cell_type": "code",
   "execution_count": 15,
   "id": "35b14433",
   "metadata": {},
   "outputs": [],
   "source": [
    "data = [1.13,1.55,1.43,0.92,1.25,1.36,1.32,0.85,1.07,1.48,1.20,1.33,1.18,1.22,1.29]"
   ]
  },
  {
   "cell_type": "code",
   "execution_count": 16,
   "id": "15f9178c",
   "metadata": {},
   "outputs": [],
   "source": [
    "sample_mean = np.mean(data)"
   ]
  },
  {
   "cell_type": "code",
   "execution_count": 17,
   "id": "6d1a75f8",
   "metadata": {},
   "outputs": [],
   "source": [
    "sample_std = np.std(data)"
   ]
  },
  {
   "cell_type": "code",
   "execution_count": 18,
   "id": "6a593816",
   "metadata": {},
   "outputs": [],
   "source": [
    "sample_size = len(data)"
   ]
  },
  {
   "cell_type": "code",
   "execution_count": 19,
   "id": "ba910c8e",
   "metadata": {},
   "outputs": [
    {
     "data": {
      "text/plain": [
       "(1.2386666666666666, 0.18661427836285438, 15)"
      ]
     },
     "execution_count": 19,
     "metadata": {},
     "output_type": "execute_result"
    }
   ],
   "source": [
    "sample_mean,sample_std,sample_size"
   ]
  },
  {
   "cell_type": "markdown",
   "id": "667eeb33",
   "metadata": {},
   "source": [
    "a. Build 99% Confidence Interval Using Sample Standard Deviation"
   ]
  },
  {
   "cell_type": "code",
   "execution_count": 23,
   "id": "131947a3",
   "metadata": {},
   "outputs": [],
   "source": [
    "confidance_level = 0.99\n",
    "alpha = 1-confidance_level\n",
    "t_value = stats.t.ppf(1-alpha/2 , df = sample_size-1)\n",
    "margine_of_error_a = t_value * sample_std / np.sqrt(sample_size)\n",
    "confidance_interval_a = (sample_mean - margine_of_error_a , sample_mean + margine_of_error_a)"
   ]
  },
  {
   "cell_type": "code",
   "execution_count": 24,
   "id": "4dac3f37",
   "metadata": {},
   "outputs": [
    {
     "data": {
      "text/plain": [
       "(1.0952316686385626, 1.3821016646947706)"
      ]
     },
     "execution_count": 24,
     "metadata": {},
     "output_type": "execute_result"
    }
   ],
   "source": [
    "confidance_interval_a"
   ]
  },
  {
   "cell_type": "markdown",
   "id": "603301d3",
   "metadata": {},
   "source": [
    "b. Build 99% Confidence Interval Using Known Population Standard Deviation"
   ]
  },
  {
   "cell_type": "code",
   "execution_count": 26,
   "id": "641d804e",
   "metadata": {},
   "outputs": [],
   "source": [
    "population_std = 0.2\n",
    "z_value = stats.t.ppf(1-alpha/2 , df = sample_size - 1)\n",
    "margine_of_error_b = z_value * population_std / np.sqrt(sample_size)\n",
    "confidance_interval_b = (sample_mean - margine_of_error_b , sample_mean + margine_of_error_b)"
   ]
  },
  {
   "cell_type": "code",
   "execution_count": 27,
   "id": "ea0121cf",
   "metadata": {},
   "outputs": [
    {
     "data": {
      "text/plain": [
       "(1.0849431688867082, 1.392390164446625)"
      ]
     },
     "execution_count": 27,
     "metadata": {},
     "output_type": "execute_result"
    }
   ],
   "source": [
    "confidance_interval_b"
   ]
  },
  {
   "cell_type": "code",
   "execution_count": 30,
   "id": "bcaa4e91",
   "metadata": {},
   "outputs": [
    {
     "name": "stdout",
     "output_type": "stream",
     "text": [
      "a. Confidance interval using sample standard deviation (1.0952316686385626, 1.3821016646947706)\n",
      "b. Confidance interval using population standard deviation (1.0849431688867082, 1.392390164446625)\n"
     ]
    }
   ],
   "source": [
    "print(\"a. Confidance interval using sample standard deviation\", confidance_interval_a)\n",
    "print(\"b. Confidance interval using population standard deviation\", confidance_interval_b)"
   ]
  }
 ],
 "metadata": {
  "kernelspec": {
   "display_name": "Python 3 (ipykernel)",
   "language": "python",
   "name": "python3"
  },
  "language_info": {
   "codemirror_mode": {
    "name": "ipython",
    "version": 3
   },
   "file_extension": ".py",
   "mimetype": "text/x-python",
   "name": "python",
   "nbconvert_exporter": "python",
   "pygments_lexer": "ipython3",
   "version": "3.10.9"
  }
 },
 "nbformat": 4,
 "nbformat_minor": 5
}
