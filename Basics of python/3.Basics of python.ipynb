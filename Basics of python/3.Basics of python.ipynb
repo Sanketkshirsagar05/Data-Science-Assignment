{
 "cells": [
  {
   "cell_type": "markdown",
   "id": "0b286c12",
   "metadata": {},
   "source": [
    "# PYTHON PROGRAMMING ASSIGNMENT"
   ]
  },
  {
   "cell_type": "markdown",
   "id": "6d4fa392",
   "metadata": {},
   "source": [
    "# Exercise 1: Prime Numbers"
   ]
  },
  {
   "cell_type": "code",
   "execution_count": 12,
   "id": "407f9885",
   "metadata": {},
   "outputs": [
    {
     "name": "stdout",
     "output_type": "stream",
     "text": [
      "Enter a number: 5\n",
      "5 is a prime number.\n"
     ]
    }
   ],
   "source": [
    "n = int(input(\"Enter a number: \"))\n",
    "\n",
    "if n <= 1:\n",
    "        print(f\"{n} is not a prime number.\")\n",
    "else:\n",
    "    # check if number is divisible by any nymber\n",
    "    for i in range(2, n):\n",
    "        if n % i == 0:  \n",
    "            print(f\"{n} is not a prime number.\")\n",
    "            break  # exit loop\n",
    "    else:\n",
    "        print(f\"{n} is a prime number.\")"
   ]
  },
  {
   "cell_type": "markdown",
   "id": "e5b36667",
   "metadata": {},
   "source": [
    "# Exercise 2: Product of Random Numbers"
   ]
  },
  {
   "cell_type": "code",
   "execution_count": 13,
   "id": "7870e87c",
   "metadata": {},
   "outputs": [
    {
     "name": "stdout",
     "output_type": "stream",
     "text": [
      "What is product of 0 * 8 ? Answer :9\n",
      "Incorrect. The correct answer is 0.\n"
     ]
    }
   ],
   "source": [
    "import random\n",
    "\n",
    "#Generate two random numbers between 0 and 9\n",
    "n1 = random.randint(0,9)\n",
    "n2 = random.randint(0,9)\n",
    "\n",
    "#Calculate the correct product\n",
    "correct_answer = n1 * n2\n",
    "\n",
    "user_answer = int(input(f\"What is product of {n1} * {n2} ? Answer :\"))\n",
    "\n",
    "if correct_answer == user_answer:\n",
    "    print(\"Correct!\")\n",
    "else:\n",
    "    print(f\"Incorrect. The correct answer is {correct_answer}.\")\n",
    "\n"
   ]
  },
  {
   "cell_type": "markdown",
   "id": "5127fc67",
   "metadata": {},
   "source": [
    "# Exercise 3: Squares of Even/Odd Numbers"
   ]
  },
  {
   "cell_type": "code",
   "execution_count": 14,
   "id": "b904fa9a",
   "metadata": {},
   "outputs": [
    {
     "name": "stdout",
     "output_type": "stream",
     "text": [
      "Square of 100 is 10000\n",
      "Square of 102 is 10404\n",
      "Square of 104 is 10816\n",
      "Square of 106 is 11236\n",
      "Square of 108 is 11664\n",
      "Square of 110 is 12100\n",
      "Square of 112 is 12544\n",
      "Square of 114 is 12996\n",
      "Square of 116 is 13456\n",
      "Square of 118 is 13924\n",
      "Square of 120 is 14400\n",
      "Square of 122 is 14884\n",
      "Square of 124 is 15376\n",
      "Square of 126 is 15876\n",
      "Square of 128 is 16384\n",
      "Square of 130 is 16900\n",
      "Square of 132 is 17424\n",
      "Square of 134 is 17956\n",
      "Square of 136 is 18496\n",
      "Square of 138 is 19044\n",
      "Square of 140 is 19600\n",
      "Square of 142 is 20164\n",
      "Square of 144 is 20736\n",
      "Square of 146 is 21316\n",
      "Square of 148 is 21904\n",
      "Square of 150 is 22500\n",
      "Square of 152 is 23104\n",
      "Square of 154 is 23716\n",
      "Square of 156 is 24336\n",
      "Square of 158 is 24964\n",
      "Square of 160 is 25600\n",
      "Square of 162 is 26244\n",
      "Square of 164 is 26896\n",
      "Square of 166 is 27556\n",
      "Square of 168 is 28224\n",
      "Square of 170 is 28900\n",
      "Square of 172 is 29584\n",
      "Square of 174 is 30276\n",
      "Square of 176 is 30976\n",
      "Square of 178 is 31684\n",
      "Square of 180 is 32400\n",
      "Square of 182 is 33124\n",
      "Square of 184 is 33856\n",
      "Square of 186 is 34596\n",
      "Square of 188 is 35344\n",
      "Square of 190 is 36100\n",
      "Square of 192 is 36864\n",
      "Square of 194 is 37636\n",
      "Square of 196 is 38416\n",
      "Square of 198 is 39204\n",
      "Square of 200 is 40000\n"
     ]
    }
   ],
   "source": [
    "#for even number\n",
    "\n",
    "n1 = 100\n",
    "n2 = 200\n",
    "\n",
    "for i in range(n1 , n2+1):\n",
    "    \n",
    "    if i % 2 == 0:   # Choosing even numbers\n",
    "        square = i ** 2 # Calculate the square of the number\n",
    "        print(f\"Square of {i} is {square}\")"
   ]
  },
  {
   "cell_type": "markdown",
   "id": "000e26cb",
   "metadata": {},
   "source": [
    "# Exercise 4: Word counter"
   ]
  },
  {
   "cell_type": "code",
   "execution_count": 16,
   "id": "52a6773b",
   "metadata": {},
   "outputs": [
    {
     "name": "stdout",
     "output_type": "stream",
     "text": [
      "Enter the textmy my name is a a sanket a\n",
      "my: 2\n",
      "name: 1\n",
      "is: 1\n",
      "a: 3\n",
      "sanket: 1\n"
     ]
    }
   ],
   "source": [
    "input_text =input('Enter the text')\n",
    "\n",
    "#Split the text into words\n",
    "words = input_text.split()\n",
    "\n",
    "#Create an empty dictionary to store the word count\n",
    "word_count = {}\n",
    "\n",
    "#Count the occurrences of each word\n",
    "for word in words:\n",
    "    word_count[word] = word_count.get(word, 0) + 1\n",
    "\n",
    "#Display the word counts\n",
    "for word, count in word_count.items():\n",
    "    print(f\"{word}: {count}\")"
   ]
  },
  {
   "cell_type": "markdown",
   "id": "e25941cf",
   "metadata": {},
   "source": [
    "# Exercise 5: Check for Palindrome"
   ]
  },
  {
   "cell_type": "code",
   "execution_count": 24,
   "id": "9a62cac0",
   "metadata": {},
   "outputs": [
    {
     "name": "stdout",
     "output_type": "stream",
     "text": [
      "Enter string : 434\n",
      "True\n"
     ]
    }
   ],
   "source": [
    "def is_palindrome(input_value):\n",
    "    \n",
    "    input_value = input('Enter string : ')\n",
    "    # Convert the input to a string\n",
    "    input_string = str(input_value)\n",
    "\n",
    "    # Reverse the string and check if it is the same as the original string\n",
    "    if input_string == input_string[::-1]:\n",
    "        return True\n",
    "    else:\n",
    "        return False\n",
    "\n",
    "print(is_palindrome(input_value)) "
   ]
  },
  {
   "cell_type": "code",
   "execution_count": null,
   "id": "fdbb2aac",
   "metadata": {},
   "outputs": [],
   "source": []
  }
 ],
 "metadata": {
  "kernelspec": {
   "display_name": "Python 3 (ipykernel)",
   "language": "python",
   "name": "python3"
  },
  "language_info": {
   "codemirror_mode": {
    "name": "ipython",
    "version": 3
   },
   "file_extension": ".py",
   "mimetype": "text/x-python",
   "name": "python",
   "nbconvert_exporter": "python",
   "pygments_lexer": "ipython3",
   "version": "3.10.9"
  }
 },
 "nbformat": 4,
 "nbformat_minor": 5
}
